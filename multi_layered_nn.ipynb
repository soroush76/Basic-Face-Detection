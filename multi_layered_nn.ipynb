{
 "cells": [
  {
   "cell_type": "code",
   "execution_count": 20,
   "metadata": {
    "colab": {
     "autoexec": {
      "startup": false,
      "wait_interval": 0
     },
     "base_uri": "https://localhost:8080/",
     "height": 106
    },
    "colab_type": "code",
    "executionInfo": {
     "elapsed": 32989,
     "status": "ok",
     "timestamp": 1526833704562,
     "user": {
      "displayName": "soroush Hashemi",
      "photoUrl": "//lh5.googleusercontent.com/-eRnGp28C2NU/AAAAAAAAAAI/AAAAAAAAAC4/Rp-e87vQOaU/s50-c-k-no/photo.jpg",
      "userId": "110326575601442170965"
     },
     "user_tz": -270
    },
    "id": "qbu17W8U4ABn",
    "outputId": "3ce1c041-7e4a-49fa-92dd-e9ba95888d19"
   },
   "outputs": [],
   "source": [
    "# !apt-get install -y -qq software-properties-common python-software-properties module-init-tools\n",
    "\n",
    "# !add-apt-repository -y ppa:alessandro-strada/ppa 2>&1 > /dev/null\n",
    "\n",
    "# !apt-get update -qq 2>&1 > /dev/null\n",
    "\n",
    "# !apt-get -y install -qq google-drive-ocamlfuse fuse\n",
    "\n",
    "\n",
    "# from google.colab import auth\n",
    "\n",
    "# auth.authenticate_user()\n",
    "\n",
    "\n",
    "# from oauth2client.client import GoogleCredentials\n",
    "\n",
    "# creds = GoogleCredentials.get_application_default()\n",
    "\n",
    "# import getpass\n",
    "\n",
    "# !google-drive-ocamlfuse -headless -id={creds.client_id} -secret={creds.client_secret} < /dev/null 2>&1 | grep URL\n",
    "\n",
    "# vcode = getpass.getpass()\n",
    "\n",
    "# !echo {vcode} | google-drive-ocamlfuse -headless -id={creds.client_id} -secret={creds.client_secret}\n",
    "\n",
    "\n",
    "# !mkdir -p drive\n",
    "\n",
    "# !google-drive-ocamlfuse drive"
   ]
  },
  {
   "cell_type": "code",
   "execution_count": 21,
   "metadata": {
    "colab": {
     "autoexec": {
      "startup": false,
      "wait_interval": 0
     }
    },
    "colab_type": "code",
    "id": "0u7IgbUp4lWZ"
   },
   "outputs": [],
   "source": [
    "import numpy as np\n",
    "import csv\n",
    "from sklearn.model_selection import train_test_split\n",
    "from sklearn.utils import shuffle\n",
    "from scipy.sparse import coo_matrix\n",
    "import matplotlib.pyplot as plt\n",
    "import matplotlib.image as mpimg\n",
    "from PIL import Image"
   ]
  },
  {
   "cell_type": "code",
   "execution_count": 22,
   "metadata": {
    "colab": {
     "autoexec": {
      "startup": false,
      "wait_interval": 0
     }
    },
    "colab_type": "code",
    "id": "5nONXFcn4sa7"
   },
   "outputs": [],
   "source": [
    "def load_data(): # load dataset from breast cancer file\n",
    "    samples = []\n",
    "    labels = []\n",
    "    with open('breastcancer_data.csv', 'r') as csvfile:\n",
    "        reader = csv.reader(csvfile)\n",
    "        for row in reader:\n",
    "            if row[1] == 'M': labels.append(1)\n",
    "            else: labels.append(0)\n",
    "\n",
    "            samples.append([float(i) for i in row[2:]])\n",
    "    samples, labels = np.array(samples), np.array(labels).reshape(-1, 1) # prevent returning a ranked-1-array\n",
    "    samples = (samples - np.mean(samples, axis=1).reshape(-1, 1))/np.std(samples, axis=1).reshape(-1, 1)\n",
    "\n",
    "    return samples, labels"
   ]
  },
  {
   "cell_type": "code",
   "execution_count": 109,
   "metadata": {
    "colab": {
     "autoexec": {
      "startup": false,
      "wait_interval": 0
     }
    },
    "colab_type": "code",
    "id": "2-6j5r_z4tp0"
   },
   "outputs": [],
   "source": [
    "def initialize_parameters(n_input, n_hidden): # initialize parameters with tiny random numbers\n",
    "    num_of_layers = len(n_hidden)\n",
    "    parameters = {}\n",
    "    \n",
    "    parameters['w1'] = np.random.randn(n_hidden[0], n_input)\n",
    "    parameters['b1'] = np.random.randn(n_hidden[0], 1)\n",
    "    \n",
    "    for i in range(1, num_of_layers):\n",
    "        parameters['w'+str(i+1)] = np.random.randn(n_hidden[i], n_hidden[i-1])\n",
    "        parameters['b'+str(i+1)] = np.random.randn(n_hidden[i], 1)\n",
    "    \n",
    "    parameters['w'+str(num_of_layers+1)] = np.random.randn(1, n_hidden[num_of_layers-1])\n",
    "    parameters['b'+str(num_of_layers+1)] = np.random.randn(1, 1)\n",
    "\n",
    "    return parameters"
   ]
  },
  {
   "cell_type": "code",
   "execution_count": 24,
   "metadata": {},
   "outputs": [],
   "source": [
    "def relu(z):\n",
    "    return np.maximum(z, 0)\n",
    "\n",
    "def relu_derivative(z):\n",
    "    der = np.zeros(z.shape)\n",
    "    der[z >= 0] = 1\n",
    "    return der"
   ]
  },
  {
   "cell_type": "code",
   "execution_count": 55,
   "metadata": {
    "colab": {
     "autoexec": {
      "startup": false,
      "wait_interval": 0
     }
    },
    "colab_type": "code",
    "id": "QW-sZthL40F7"
   },
   "outputs": [],
   "source": [
    "def forward_prop(x, parameters, activation, keep_prop=1.0):\n",
    "    cache = {}\n",
    "    last_layer = len(parameters) // 2\n",
    "    cache['a'+str(0)] = x\n",
    "    \n",
    "    for l in range(1, last_layer+1):\n",
    "        cache['z'+str(l)] = np.dot(parameters['w'+str(l)], cache['a'+str(l-1)]) + parameters['b'+str(l)]\n",
    "        if l == last_layer: \n",
    "            cache['a'+str(last_layer)] = 1/(1 + np.exp(-cache['z'+str(last_layer)]))\n",
    "        elif activation == 'relu':\n",
    "            cache['a'+str(l)] = relu(cache['z'+str(l)])\n",
    "        elif activation == 'sigmoid': \n",
    "            cache['a'+str(l)] = 1/(1 + np.exp(-cache['z'+str(l)]))\n",
    "        elif activation == 'tanh': \n",
    "            cache['a'+str(l)] = np.tanh(cache['z'+str(l)])\n",
    "        \n",
    "        if keep_prop != 1.0 and l != last_layer:\n",
    "            dropout_temp = np.random.randn(cache['a'+str(l)].shape[0], cache['a'+str(l)].shape[1]) < keep_prop\n",
    "            cache['a'+str(l)] = np.multiply(cache['a'+str(l)], dropout_temp) / keep_prop\n",
    "\n",
    "    return cache"
   ]
  },
  {
   "cell_type": "code",
   "execution_count": 46,
   "metadata": {
    "colab": {
     "autoexec": {
      "startup": false,
      "wait_interval": 0
     }
    },
    "colab_type": "code",
    "id": "WuubFzLY42uO"
   },
   "outputs": [],
   "source": [
    "def back_prop(x, y, cache, parameters, activation, _lambda):\n",
    "    m = x.shape[1]\n",
    "    gradients = {}\n",
    "    last_layer = len(parameters) // 2\n",
    "    \n",
    "    gradients['dz'+str(last_layer)] = cache['a'+str(last_layer)] - y.T\n",
    "    gradients['dw'+str(last_layer)] = 1/m * np.dot(gradients['dz'+str(last_layer)], cache['a'+str(last_layer-1)].T) + _lambda/m * parameters['w'+str(last_layer)]\n",
    "    gradients['db'+str(last_layer)] = 1/m * np.sum(gradients['dz'+str(last_layer)], axis=1, keepdims=True)\n",
    "        \n",
    "    for i in reversed(range(1, last_layer)):\n",
    "        if activation == 'sigmoid': \n",
    "            sigmoid = 1/(1 + np.exp(-cache['z'+str(i)]))\n",
    "            gradients['dz'+str(i)] = np.dot(parameters['w'+str(i+1)].T, gradients['dz'+str(i+1)]) * (sigmoid * (1 - sigmoid))\n",
    "        elif activation == 'relu':\n",
    "            gradients['dz'+str(i)] = np.dot(parameters['w'+str(i+1)].T, gradients['dz'+str(i+1)]) * relu_derivative(cache['z'+str(i)])\n",
    "        elif activation == 'tanh': \n",
    "            gradients['dz'+str(i)] = np.dot(parameters['w'+str(i+1)].T, gradients['dz'+str(i+1)]) * (1 - np.power(np.tanh(cache['z'+str(i)]), 2))\n",
    "     \n",
    "        gradients['dw'+str(i)] = 1/m * np.dot(gradients['dz'+str(i)], cache['a'+str(i-1)].T) + _lambda/m * parameters['w'+str(i)]\n",
    "        gradients['db'+str(i)] = 1/m * np.sum(gradients['dz'+str(i)], axis=1, keepdims=True)\n",
    "    \n",
    "    return gradients"
   ]
  },
  {
   "cell_type": "code",
   "execution_count": 47,
   "metadata": {},
   "outputs": [],
   "source": [
    "def cost_function(m, labels, y_hat, params, lambd): # regularized\n",
    "    last_layer = len(params) // 2\n",
    "    return -1/m * (np.sum(labels * np.log(y_hat)) + np.sum((1-labels) * np.log(1 - y_hat))) + lambd/(2*m) * np.sum([\n",
    "            np.power(np.linalg.norm(params['w'+str(i)]), 2) for i in range(1, last_layer+1)])"
   ]
  },
  {
   "cell_type": "code",
   "execution_count": 106,
   "metadata": {
    "colab": {
     "autoexec": {
      "startup": false,
      "wait_interval": 0
     }
    },
    "colab_type": "code",
    "id": "PSEIPO6845Zr"
   },
   "outputs": [],
   "source": [
    "def multi_Layered_NN(samples, labels, n_hidden, num_iterations, activation=\"tanh\", learning_rate=0.01, _lambda=0, keep_prob_dropout=1.0, print_cost=False):\n",
    "    m = samples.shape[1]\n",
    "    params = initialize_parameters(samples.shape[0], n_hidden)\n",
    "    cost_history = []\n",
    "    last_layer = len(params) // 2\n",
    "    \n",
    "    for i in range(1, num_iterations+1):\n",
    "        cache = forward_prop(samples, params, activation, keep_prob_dropout)\n",
    "        \n",
    "        gradients = back_prop(samples, labels, cache, params, activation, _lambda)\n",
    "        for j in range(1, last_layer+1):\n",
    "            params['w'+str(j)] -= learning_rate * gradients['dw'+str(j)]\n",
    "            params['b'+str(j)] -= learning_rate * gradients['db'+str(j)]\n",
    "\n",
    "        if print_cost and i%1000 == 0: \n",
    "            cost = cost_function(m, labels, cache['a'+str(last_layer)].T, params, _lambda)\n",
    "            print('cost after epoch {}: {}'.format(int(i/1000), cost))\n",
    "            cost_history.append(cost)\n",
    "\n",
    "    return {'parameters':params, \n",
    "            'cache': cache,\n",
    "            'cost_history':cost_history\n",
    "           }\n"
   ]
  },
  {
   "cell_type": "code",
   "execution_count": 49,
   "metadata": {
    "colab": {
     "autoexec": {
      "startup": false,
      "wait_interval": 0
     }
    },
    "colab_type": "code",
    "id": "my_b07jt49FW"
   },
   "outputs": [],
   "source": [
    "def predict(x, parameters, activation):\n",
    "    last_layer = len(parameters) // 2\n",
    "    cache = forward_prop(x.T, parameters, activation)\n",
    "    y_hat = cache['a'+str(last_layer)]\n",
    "    y_hat[y_hat >= 0.5] = 1\n",
    "    y_hat[y_hat < 0.5] = 0\n",
    "\n",
    "    return y_hat.T"
   ]
  },
  {
   "cell_type": "markdown",
   "metadata": {},
   "source": [
    "## load dataset section"
   ]
  },
  {
   "cell_type": "code",
   "execution_count": 50,
   "metadata": {},
   "outputs": [],
   "source": [
    "import scipy.io\n",
    "samples = scipy.io.loadmat('olivettifaces.mat')\n",
    "samples = samples['faces'].T\n",
    "labels = np.ones((samples.shape[0], 1))\n",
    "artificialZeroData = np.random.randint(0, 256, (samples.shape[0], samples.shape[1]))\n",
    "artificialZeroLabel = np.zeros((artificialZeroData.shape[0], 1))\n",
    "samples = np.vstack((samples, artificialZeroData))\n",
    "labels = np.vstack((labels, artificialZeroLabel))\n",
    "\n",
    "# import matplotlib.image as mpimg\n",
    "# imgplot = plt.imshow(samples[152, :].reshape(64, 64))\n",
    "# plt.show()\n",
    "\n",
    "_mean = np.mean(samples, axis=1).reshape(-1, 1)\n",
    "variance = (np.std(samples, axis=1)**2).reshape(-1, 1)\n",
    "samples = (samples - _mean)/variance\n",
    "\n",
    "samples_sparse = coo_matrix(samples)\n",
    "samples, samples_sparse, labels = shuffle(samples, samples_sparse, labels)\n",
    "\n",
    "train_data, test_data, train_label, test_label = train_test_split(samples, labels, test_size=0.30, random_state=4)"
   ]
  },
  {
   "cell_type": "code",
   "execution_count": 98,
   "metadata": {},
   "outputs": [
    {
     "name": "stdout",
     "output_type": "stream",
     "text": [
      "(800, 4096) (800, 1)\n"
     ]
    }
   ],
   "source": [
    "print(samples.shape, labels.shape)"
   ]
  },
  {
   "cell_type": "markdown",
   "metadata": {},
   "source": [
    "## train section"
   ]
  },
  {
   "cell_type": "code",
   "execution_count": 117,
   "metadata": {
    "colab": {
     "autoexec": {
      "startup": false,
      "wait_interval": 0
     },
     "base_uri": "https://localhost:8080/",
     "height": 225
    },
    "colab_type": "code",
    "executionInfo": {
     "elapsed": 1897057,
     "status": "ok",
     "timestamp": 1526839410049,
     "user": {
      "displayName": "soroush Hashemi",
      "photoUrl": "//lh5.googleusercontent.com/-eRnGp28C2NU/AAAAAAAAAAI/AAAAAAAAAC4/Rp-e87vQOaU/s50-c-k-no/photo.jpg",
      "userId": "110326575601442170965"
     },
     "user_tz": -270
    },
    "id": "ycSNfwRy4-3_",
    "outputId": "ab29b2c4-1992-4c77-d22b-a88a3d987aa9"
   },
   "outputs": [
    {
     "ename": "KeyboardInterrupt",
     "evalue": "",
     "output_type": "error",
     "traceback": [
      "\u001b[0;31m---------------------------------------------------------------------------\u001b[0m",
      "\u001b[0;31mKeyboardInterrupt\u001b[0m                         Traceback (most recent call last)",
      "\u001b[0;32m<ipython-input-117-bf4408f4f385>\u001b[0m in \u001b[0;36m<module>\u001b[0;34m()\u001b[0m\n\u001b[1;32m     11\u001b[0m                          \u001b[0m_lambda\u001b[0m \u001b[0;34m=\u001b[0m \u001b[0;36m0.000000001\u001b[0m\u001b[0;34m,\u001b[0m\u001b[0;34m\u001b[0m\u001b[0m\n\u001b[1;32m     12\u001b[0m                          \u001b[0mkeep_prob_dropout\u001b[0m\u001b[0;34m=\u001b[0m \u001b[0;36m0.8\u001b[0m\u001b[0;34m,\u001b[0m\u001b[0;34m\u001b[0m\u001b[0m\n\u001b[0;32m---> 13\u001b[0;31m                          print_cost=True)\n\u001b[0m\u001b[1;32m     14\u001b[0m \u001b[0;34m\u001b[0m\u001b[0m\n\u001b[1;32m     15\u001b[0m \u001b[0mprint\u001b[0m\u001b[0;34m(\u001b[0m\u001b[0;34m\"Train phase time:\"\u001b[0m\u001b[0;34m,\u001b[0m \u001b[0mtime\u001b[0m\u001b[0;34m.\u001b[0m\u001b[0mtime\u001b[0m\u001b[0;34m(\u001b[0m\u001b[0;34m)\u001b[0m\u001b[0;34m-\u001b[0m\u001b[0mtic\u001b[0m\u001b[0;34m)\u001b[0m\u001b[0;34m\u001b[0m\u001b[0m\n",
      "\u001b[0;32m<ipython-input-106-baaf753c48fe>\u001b[0m in \u001b[0;36mmulti_Layered_NN\u001b[0;34m(samples, labels, n_hidden, num_iterations, activation, learning_rate, _lambda, keep_prob_dropout, print_cost)\u001b[0m\n\u001b[1;32m      8\u001b[0m         \u001b[0mcache\u001b[0m \u001b[0;34m=\u001b[0m \u001b[0mforward_prop\u001b[0m\u001b[0;34m(\u001b[0m\u001b[0msamples\u001b[0m\u001b[0;34m,\u001b[0m \u001b[0mparams\u001b[0m\u001b[0;34m,\u001b[0m \u001b[0mactivation\u001b[0m\u001b[0;34m,\u001b[0m \u001b[0mkeep_prob_dropout\u001b[0m\u001b[0;34m)\u001b[0m\u001b[0;34m\u001b[0m\u001b[0m\n\u001b[1;32m      9\u001b[0m \u001b[0;34m\u001b[0m\u001b[0m\n\u001b[0;32m---> 10\u001b[0;31m         \u001b[0mgradients\u001b[0m \u001b[0;34m=\u001b[0m \u001b[0mback_prop\u001b[0m\u001b[0;34m(\u001b[0m\u001b[0msamples\u001b[0m\u001b[0;34m,\u001b[0m \u001b[0mlabels\u001b[0m\u001b[0;34m,\u001b[0m \u001b[0mcache\u001b[0m\u001b[0;34m,\u001b[0m \u001b[0mparams\u001b[0m\u001b[0;34m,\u001b[0m \u001b[0mactivation\u001b[0m\u001b[0;34m,\u001b[0m \u001b[0m_lambda\u001b[0m\u001b[0;34m)\u001b[0m\u001b[0;34m\u001b[0m\u001b[0m\n\u001b[0m\u001b[1;32m     11\u001b[0m         \u001b[0;32mfor\u001b[0m \u001b[0mj\u001b[0m \u001b[0;32min\u001b[0m \u001b[0mrange\u001b[0m\u001b[0;34m(\u001b[0m\u001b[0;36m1\u001b[0m\u001b[0;34m,\u001b[0m \u001b[0mlast_layer\u001b[0m\u001b[0;34m+\u001b[0m\u001b[0;36m1\u001b[0m\u001b[0;34m)\u001b[0m\u001b[0;34m:\u001b[0m\u001b[0;34m\u001b[0m\u001b[0m\n\u001b[1;32m     12\u001b[0m             \u001b[0mparams\u001b[0m\u001b[0;34m[\u001b[0m\u001b[0;34m'w'\u001b[0m\u001b[0;34m+\u001b[0m\u001b[0mstr\u001b[0m\u001b[0;34m(\u001b[0m\u001b[0mj\u001b[0m\u001b[0;34m)\u001b[0m\u001b[0;34m]\u001b[0m \u001b[0;34m-=\u001b[0m \u001b[0mlearning_rate\u001b[0m \u001b[0;34m*\u001b[0m \u001b[0mgradients\u001b[0m\u001b[0;34m[\u001b[0m\u001b[0;34m'dw'\u001b[0m\u001b[0;34m+\u001b[0m\u001b[0mstr\u001b[0m\u001b[0;34m(\u001b[0m\u001b[0mj\u001b[0m\u001b[0;34m)\u001b[0m\u001b[0;34m]\u001b[0m\u001b[0;34m\u001b[0m\u001b[0m\n",
      "\u001b[0;32m<ipython-input-46-a5dc853546e4>\u001b[0m in \u001b[0;36mback_prop\u001b[0;34m(x, y, cache, parameters, activation, _lambda)\u001b[0m\n\u001b[1;32m     15\u001b[0m             \u001b[0mgradients\u001b[0m\u001b[0;34m[\u001b[0m\u001b[0;34m'dz'\u001b[0m\u001b[0;34m+\u001b[0m\u001b[0mstr\u001b[0m\u001b[0;34m(\u001b[0m\u001b[0mi\u001b[0m\u001b[0;34m)\u001b[0m\u001b[0;34m]\u001b[0m \u001b[0;34m=\u001b[0m \u001b[0mnp\u001b[0m\u001b[0;34m.\u001b[0m\u001b[0mdot\u001b[0m\u001b[0;34m(\u001b[0m\u001b[0mparameters\u001b[0m\u001b[0;34m[\u001b[0m\u001b[0;34m'w'\u001b[0m\u001b[0;34m+\u001b[0m\u001b[0mstr\u001b[0m\u001b[0;34m(\u001b[0m\u001b[0mi\u001b[0m\u001b[0;34m+\u001b[0m\u001b[0;36m1\u001b[0m\u001b[0;34m)\u001b[0m\u001b[0;34m]\u001b[0m\u001b[0;34m.\u001b[0m\u001b[0mT\u001b[0m\u001b[0;34m,\u001b[0m \u001b[0mgradients\u001b[0m\u001b[0;34m[\u001b[0m\u001b[0;34m'dz'\u001b[0m\u001b[0;34m+\u001b[0m\u001b[0mstr\u001b[0m\u001b[0;34m(\u001b[0m\u001b[0mi\u001b[0m\u001b[0;34m+\u001b[0m\u001b[0;36m1\u001b[0m\u001b[0;34m)\u001b[0m\u001b[0;34m]\u001b[0m\u001b[0;34m)\u001b[0m \u001b[0;34m*\u001b[0m \u001b[0mrelu_derivative\u001b[0m\u001b[0;34m(\u001b[0m\u001b[0mcache\u001b[0m\u001b[0;34m[\u001b[0m\u001b[0;34m'z'\u001b[0m\u001b[0;34m+\u001b[0m\u001b[0mstr\u001b[0m\u001b[0;34m(\u001b[0m\u001b[0mi\u001b[0m\u001b[0;34m)\u001b[0m\u001b[0;34m]\u001b[0m\u001b[0;34m)\u001b[0m\u001b[0;34m\u001b[0m\u001b[0m\n\u001b[1;32m     16\u001b[0m         \u001b[0;32melif\u001b[0m \u001b[0mactivation\u001b[0m \u001b[0;34m==\u001b[0m \u001b[0;34m'tanh'\u001b[0m\u001b[0;34m:\u001b[0m\u001b[0;34m\u001b[0m\u001b[0m\n\u001b[0;32m---> 17\u001b[0;31m             \u001b[0mgradients\u001b[0m\u001b[0;34m[\u001b[0m\u001b[0;34m'dz'\u001b[0m\u001b[0;34m+\u001b[0m\u001b[0mstr\u001b[0m\u001b[0;34m(\u001b[0m\u001b[0mi\u001b[0m\u001b[0;34m)\u001b[0m\u001b[0;34m]\u001b[0m \u001b[0;34m=\u001b[0m \u001b[0mnp\u001b[0m\u001b[0;34m.\u001b[0m\u001b[0mdot\u001b[0m\u001b[0;34m(\u001b[0m\u001b[0mparameters\u001b[0m\u001b[0;34m[\u001b[0m\u001b[0;34m'w'\u001b[0m\u001b[0;34m+\u001b[0m\u001b[0mstr\u001b[0m\u001b[0;34m(\u001b[0m\u001b[0mi\u001b[0m\u001b[0;34m+\u001b[0m\u001b[0;36m1\u001b[0m\u001b[0;34m)\u001b[0m\u001b[0;34m]\u001b[0m\u001b[0;34m.\u001b[0m\u001b[0mT\u001b[0m\u001b[0;34m,\u001b[0m \u001b[0mgradients\u001b[0m\u001b[0;34m[\u001b[0m\u001b[0;34m'dz'\u001b[0m\u001b[0;34m+\u001b[0m\u001b[0mstr\u001b[0m\u001b[0;34m(\u001b[0m\u001b[0mi\u001b[0m\u001b[0;34m+\u001b[0m\u001b[0;36m1\u001b[0m\u001b[0;34m)\u001b[0m\u001b[0;34m]\u001b[0m\u001b[0;34m)\u001b[0m \u001b[0;34m*\u001b[0m \u001b[0;34m(\u001b[0m\u001b[0;36m1\u001b[0m \u001b[0;34m-\u001b[0m \u001b[0mnp\u001b[0m\u001b[0;34m.\u001b[0m\u001b[0mpower\u001b[0m\u001b[0;34m(\u001b[0m\u001b[0mnp\u001b[0m\u001b[0;34m.\u001b[0m\u001b[0mtanh\u001b[0m\u001b[0;34m(\u001b[0m\u001b[0mcache\u001b[0m\u001b[0;34m[\u001b[0m\u001b[0;34m'z'\u001b[0m\u001b[0;34m+\u001b[0m\u001b[0mstr\u001b[0m\u001b[0;34m(\u001b[0m\u001b[0mi\u001b[0m\u001b[0;34m)\u001b[0m\u001b[0;34m]\u001b[0m\u001b[0;34m)\u001b[0m\u001b[0;34m,\u001b[0m \u001b[0;36m2\u001b[0m\u001b[0;34m)\u001b[0m\u001b[0;34m)\u001b[0m\u001b[0;34m\u001b[0m\u001b[0m\n\u001b[0m\u001b[1;32m     18\u001b[0m \u001b[0;34m\u001b[0m\u001b[0m\n\u001b[1;32m     19\u001b[0m         \u001b[0mgradients\u001b[0m\u001b[0;34m[\u001b[0m\u001b[0;34m'dw'\u001b[0m\u001b[0;34m+\u001b[0m\u001b[0mstr\u001b[0m\u001b[0;34m(\u001b[0m\u001b[0mi\u001b[0m\u001b[0;34m)\u001b[0m\u001b[0;34m]\u001b[0m \u001b[0;34m=\u001b[0m \u001b[0;36m1\u001b[0m\u001b[0;34m/\u001b[0m\u001b[0mm\u001b[0m \u001b[0;34m*\u001b[0m \u001b[0mnp\u001b[0m\u001b[0;34m.\u001b[0m\u001b[0mdot\u001b[0m\u001b[0;34m(\u001b[0m\u001b[0mgradients\u001b[0m\u001b[0;34m[\u001b[0m\u001b[0;34m'dz'\u001b[0m\u001b[0;34m+\u001b[0m\u001b[0mstr\u001b[0m\u001b[0;34m(\u001b[0m\u001b[0mi\u001b[0m\u001b[0;34m)\u001b[0m\u001b[0;34m]\u001b[0m\u001b[0;34m,\u001b[0m \u001b[0mcache\u001b[0m\u001b[0;34m[\u001b[0m\u001b[0;34m'a'\u001b[0m\u001b[0;34m+\u001b[0m\u001b[0mstr\u001b[0m\u001b[0;34m(\u001b[0m\u001b[0mi\u001b[0m\u001b[0;34m-\u001b[0m\u001b[0;36m1\u001b[0m\u001b[0;34m)\u001b[0m\u001b[0;34m]\u001b[0m\u001b[0;34m.\u001b[0m\u001b[0mT\u001b[0m\u001b[0;34m)\u001b[0m \u001b[0;34m+\u001b[0m \u001b[0m_lambda\u001b[0m\u001b[0;34m/\u001b[0m\u001b[0mm\u001b[0m \u001b[0;34m*\u001b[0m \u001b[0mparameters\u001b[0m\u001b[0;34m[\u001b[0m\u001b[0;34m'w'\u001b[0m\u001b[0;34m+\u001b[0m\u001b[0mstr\u001b[0m\u001b[0;34m(\u001b[0m\u001b[0mi\u001b[0m\u001b[0;34m)\u001b[0m\u001b[0;34m]\u001b[0m\u001b[0;34m\u001b[0m\u001b[0m\n",
      "\u001b[0;31mKeyboardInterrupt\u001b[0m: "
     ]
    }
   ],
   "source": [
    "import time\n",
    "\n",
    "tic = time.time()\n",
    "activation_function = 'tanh'\n",
    "model = multi_Layered_NN(train_data.T,\n",
    "                         train_label,\n",
    "                         activation=activation_function,\n",
    "                         n_hidden=[100, 200, 200, 200, 100],\n",
    "                         num_iterations=5000,\n",
    "                         learning_rate=0.001,\n",
    "                         _lambda = 0.000000001,\n",
    "                         keep_prob_dropout= 0.8,\n",
    "                         print_cost=True)\n",
    "\n",
    "print(\"Train phase time:\", time.time()-tic)"
   ]
  },
  {
   "cell_type": "code",
   "execution_count": 111,
   "metadata": {},
   "outputs": [
    {
     "name": "stdout",
     "output_type": "stream",
     "text": [
      "accuracy on train set: 97.67857142857143 %\n",
      "accuracy on test set: 97.5 %\n"
     ]
    }
   ],
   "source": [
    "pred_labels = predict(train_data, parameters=model['parameters'], activation=activation_function)\n",
    "print('accuracy on train set:', (np.sum(pred_labels == train_label)/pred_labels.size) * 100, '%')\n",
    "pred_labels = predict(test_data, parameters=model['parameters'], activation=activation_function)\n",
    "print('accuracy on test set:', (np.sum(pred_labels == test_label)/pred_labels.size) * 100, '%')"
   ]
  },
  {
   "cell_type": "markdown",
   "metadata": {},
   "source": [
    "### plot cost value"
   ]
  },
  {
   "cell_type": "code",
   "execution_count": 112,
   "metadata": {},
   "outputs": [
    {
     "data": {
      "image/png": "[encoded data removed]",
      "text/plain": [
       "<matplotlib.figure.Figure at 0x7fb76814a2b0>"
      ]
     },
     "metadata": {},
     "output_type": "display_data"
    }
   ],
   "source": [
    "plt.plot(range(len(model['cost_history'])), model['cost_history'])\n",
    "plt.show()"
   ]
  },
  {
   "cell_type": "markdown",
   "metadata": {},
   "source": [
    "### test an example of test set"
   ]
  },
  {
   "cell_type": "code",
   "execution_count": 113,
   "metadata": {},
   "outputs": [
    {
     "data": {
      "image/png": "[encoded data removed]",
      "text/plain": [
       "<matplotlib.figure.Figure at 0x7fb767df05c0>"
      ]
     },
     "metadata": {},
     "output_type": "display_data"
    },
    {
     "name": "stdout",
     "output_type": "stream",
     "text": [
      "[[1.]]\n",
      "Human\n"
     ]
    }
   ],
   "source": [
    "photo_number = 192\n",
    "imgplot = plt.imshow(test_data[photo_number].reshape(64, 64))\n",
    "plt.show()\n",
    "pred_labels = predict(test_data[photo_number].reshape(1, -1), parameters=model['parameters'], activation=activation_function)\n",
    "print(pred_labels)\n",
    "if int(pred_labels[0][0]) == 1:\n",
    "    print('Human')\n",
    "else:\n",
    "    print('Not-Human')"
   ]
  },
  {
   "cell_type": "markdown",
   "metadata": {},
   "source": [
    "### predict an example from you\n",
    "It must be a 64*64 photo."
   ]
  },
  {
   "cell_type": "code",
   "execution_count": 94,
   "metadata": {},
   "outputs": [],
   "source": [
    "# myimg = mpimg.imread('myimg.jpg')\n",
    "# imgplot = plt.imshow(myimg)\n",
    "# print(myimg.shape)\n",
    "\n",
    "def predict_new_photo(photo_name):\n",
    "    # import photo and convert it to greyscale 64*64\n",
    "    x=Image.open(photo_name, 'r')\n",
    "    x=x.convert('L') #makes it greyscale\n",
    "    y=np.asarray(x.getdata(), dtype=np.float64).reshape((x.size[1],x.size[0]))\n",
    "    y=np.asarray(y, dtype=np.uint8) #if values still in range 0-255! \n",
    "    w=Image.fromarray(y,mode='L')\n",
    "    w.save('out.jpg')\n",
    "\n",
    "    # rotate imgae 90 degree\n",
    "    raw_img = Image.open(\"out.jpg\")\n",
    "    img = raw_img.rotate(90)\n",
    "    # img.show()\n",
    "    img.save(\"out.jpg\")\n",
    "\n",
    "    myimg = mpimg.imread('out.jpg')\n",
    "    imgplot = plt.imshow(myimg)\n",
    "\n",
    "    pred_labels = predict(myimg.reshape(1, -1), parameters=model['parameters'], activation=activation_function)\n",
    "    if int(pred_labels[0][0]) == 1:\n",
    "        print('Human')\n",
    "    else:\n",
    "        print('Not-Human')"
   ]
  },
  {
   "cell_type": "code",
   "execution_count": 114,
   "metadata": {},
   "outputs": [
    {
     "name": "stdout",
     "output_type": "stream",
     "text": [
      "Human\n",
      "Not-Human\n",
      "Human\n",
      "Human\n",
      "Human\n",
      "Human\n"
     ]
    },
    {
     "data": {
      "image/png": "[encoded data removed]",
      "text/plain": [
       "<matplotlib.figure.Figure at 0x7fb767e17358>"
      ]
     },
     "metadata": {},
     "output_type": "display_data"
    }
   ],
   "source": [
    "m = 6\n",
    "plt.subplot(m,1, 1)\n",
    "predict_new_photo('myimg.jpg')\n",
    "plt.subplot(m,1, 2)\n",
    "predict_new_photo('myimg2.jpg')\n",
    "plt.subplot(m,1, 3)\n",
    "predict_new_photo('myimg3.jpg')\n",
    "plt.subplot(m,1, 4)\n",
    "predict_new_photo('myimg4.jpg')\n",
    "plt.subplot(m,1, 5)\n",
    "predict_new_photo('myimg6.jpg')\n",
    "plt.subplot(m,1, 6)\n",
    "predict_new_photo('myimg5.jpg')"
   ]
  },
  {
   "cell_type": "markdown",
   "metadata": {},
   "source": [
    "### run a package with the same parameters to check it"
   ]
  },
  {
   "cell_type": "code",
   "execution_count": 88,
   "metadata": {
    "colab": {
     "autoexec": {
      "startup": false,
      "wait_interval": 0
     }
    },
    "colab_type": "code",
    "id": "g1fjZOZA5AqC"
   },
   "outputs": [
    {
     "name": "stderr",
     "output_type": "stream",
     "text": [
      "/usr/local/lib/python3.6/dist-packages/sklearn/neural_network/multilayer_perceptron.py:912: DataConversionWarning: A column-vector y was passed when a 1d array was expected. Please change the shape of y to (n_samples, ), for example using ravel().\n",
      "  y = column_or_1d(y, warn=True)\n"
     ]
    },
    {
     "name": "stdout",
     "output_type": "stream",
     "text": [
      "accuracy on train set: 100.0\n",
      "accuracy on test set: 100.0\n",
      "loss: 1.2996890841023757e-05\n"
     ]
    }
   ],
   "source": [
    "from sklearn.neural_network import MLPClassifier\n",
    "\n",
    "clf = MLPClassifier(hidden_layer_sizes=(200, 500, 200), activation='tanh', solver='sgd', alpha=0, learning_rate_init=0.1, max_iter=10000)\n",
    "clf.fit(train_data, train_label)\n",
    "\n",
    "print('accuracy on train set:', clf.score(train_data, train_label)*100)\n",
    "print('accuracy on test set:', clf.score(test_data, test_label)*100)\n",
    "print('loss:', clf.loss_)"
   ]
  },
  {
   "cell_type": "code",
   "execution_count": 89,
   "metadata": {},
   "outputs": [
    {
     "name": "stdout",
     "output_type": "stream",
     "text": [
      "[1.]\n"
     ]
    }
   ],
   "source": [
    "myimg = mpimg.imread('out.jpg')\n",
    "print(clf.predict(myimg.reshape(1, -1)))"
   ]
  },
  {
   "cell_type": "code",
   "execution_count": null,
   "metadata": {},
   "outputs": [],
   "source": []
  }
 ],
 "metadata": {
  "accelerator": "GPU",
  "colab": {
   "collapsed_sections": [],
   "default_view": {},
   "name": "Copy of Copy of 2_layered_nn.ipynb",
   "provenance": [
    {
     "file_id": "1o1u4EaQdlQ71NITAORhkZCc0dwPCS5Sn",
     "timestamp": 1526839703475
    },
    {
     "file_id": "1xOHj7OAibLd9i85-hlDIlyXKUmEjtwdB",
     "timestamp": 1526758920791
    }
   ],
   "version": "0.3.2",
   "views": {}
  },
  "kernelspec": {
   "display_name": "Python 3",
   "language": "python",
   "name": "python3"
  },
  "language_info": {
   "codemirror_mode": {
    "name": "ipython",
    "version": 3
   },
   "file_extension": ".py",
   "mimetype": "text/x-python",
   "name": "python",
   "nbconvert_exporter": "python",
   "pygments_lexer": "ipython3",
   "version": "3.6.3"
  }
 },
 "nbformat": 4,
 "nbformat_minor": 1
}
