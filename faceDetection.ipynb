{
 "cells": [
  {
   "cell_type": "code",
   "execution_count": null,
   "metadata": {
    "colab": {
     "autoexec": {
      "startup": false,
      "wait_interval": 0
     },
     "base_uri": "https://localhost:8080/",
     "height": 106
    },
    "colab_type": "code",
    "executionInfo": {
     "elapsed": 41970,
     "status": "ok",
     "timestamp": 1527955812385,
     "user": {
      "displayName": "soroush Hashemi",
      "photoUrl": "//lh5.googleusercontent.com/-eRnGp28C2NU/AAAAAAAAAAI/AAAAAAAAAC4/Rp-e87vQOaU/s50-c-k-no/photo.jpg",
      "userId": "110326575601442170965"
     },
     "user_tz": -270
    },
    "id": "qbu17W8U4ABn",
    "outputId": "42213c41-1bd1-4b1d-cc1d-c37914986946"
   },
   "outputs": [],
   "source": [
    "# !apt-get install -y -qq software-properties-common python-software-properties module-init-tools\n",
    "\n",
    "# !add-apt-repository -y ppa:alessandro-strada/ppa 2>&1 > /dev/null\n",
    "\n",
    "# !apt-get update -qq 2>&1 > /dev/null\n",
    "\n",
    "# !apt-get -y install -qq google-drive-ocamlfuse fuse\n",
    "\n",
    "\n",
    "# from google.colab import auth\n",
    "\n",
    "# auth.authenticate_user()\n",
    "\n",
    "\n",
    "# from oauth2client.client import GoogleCredentials\n",
    "\n",
    "# creds = GoogleCredentials.get_application_default()\n",
    "\n",
    "# import getpass\n",
    "\n",
    "# !google-drive-ocamlfuse -headless -id={creds.client_id} -secret={creds.client_secret} < /dev/null 2>&1 | grep URL\n",
    "\n",
    "# vcode = getpass.getpass()\n",
    "\n",
    "# !echo {vcode} | google-drive-ocamlfuse -headless -id={creds.client_id} -secret={creds.client_secret}\n",
    "\n",
    "\n",
    "# !mkdir -p drive\n",
    "\n",
    "# !google-drive-ocamlfuse drive"
   ]
  },
  {
   "cell_type": "code",
   "execution_count": null,
   "metadata": {
    "colab": {
     "autoexec": {
      "startup": false,
      "wait_interval": 0
     },
     "base_uri": "https://localhost:8080/",
     "height": 52
    },
    "colab_type": "code",
    "executionInfo": {
     "elapsed": 3393,
     "status": "ok",
     "timestamp": 1527955896274,
     "user": {
      "displayName": "soroush Hashemi",
      "photoUrl": "//lh5.googleusercontent.com/-eRnGp28C2NU/AAAAAAAAAAI/AAAAAAAAAC4/Rp-e87vQOaU/s50-c-k-no/photo.jpg",
      "userId": "110326575601442170965"
     },
     "user_tz": -270
    },
    "id": "Q9cos-tpQ9Wg",
    "outputId": "5e75a62f-546b-4049-cd03-fb7a1153cbc2"
   },
   "outputs": [],
   "source": [
    "# !ls drive/ColabNotebooks/"
   ]
  },
  {
   "cell_type": "code",
   "execution_count": null,
   "metadata": {
    "colab": {
     "autoexec": {
      "startup": false,
      "wait_interval": 0
     }
    },
    "colab_type": "code",
    "id": "0u7IgbUp4lWZ"
   },
   "outputs": [],
   "source": [
    "import numpy as np\n",
    "import csv\n",
    "from sklearn.model_selection import train_test_split\n",
    "from sklearn.utils import shuffle\n",
    "from scipy.sparse import coo_matrix\n",
    "import matplotlib.pyplot as plt\n",
    "import matplotlib.image as mpimg\n",
    "from PIL import Image"
   ]
  },
  {
   "cell_type": "code",
   "execution_count": null,
   "metadata": {
    "colab": {
     "autoexec": {
      "startup": false,
      "wait_interval": 0
     }
    },
    "colab_type": "code",
    "id": "5nONXFcn4sa7"
   },
   "outputs": [],
   "source": [
    "def load_data(): # load dataset from breast cancer file\n",
    "    samples = []\n",
    "    labels = []\n",
    "    with open('breastcancer_data.csv', 'r') as csvfile:\n",
    "        reader = csv.reader(csvfile)\n",
    "        for row in reader:\n",
    "            if row[1] == 'M': labels.append(1)\n",
    "            else: labels.append(0)\n",
    "\n",
    "            samples.append([float(i) for i in row[2:]])\n",
    "    samples, labels = np.array(samples), np.array(labels).reshape(-1, 1) # prevent returning a ranked-1-array\n",
    "    samples = (samples - np.mean(samples, axis=1).reshape(-1, 1))/np.std(samples, axis=1).reshape(-1, 1)\n",
    "\n",
    "    return samples, labels"
   ]
  },
  {
   "cell_type": "code",
   "execution_count": null,
   "metadata": {
    "colab": {
     "autoexec": {
      "startup": false,
      "wait_interval": 0
     }
    },
    "colab_type": "code",
    "id": "2-6j5r_z4tp0"
   },
   "outputs": [],
   "source": [
    "def initialize_parameters(n_input, n_hidden): # initialize parameters with tiny random numbers\n",
    "    num_of_layers = len(n_hidden)\n",
    "    parameters = {}\n",
    "    \n",
    "    parameters['w1'] = np.random.randn(n_hidden[0], n_input)\n",
    "    parameters['b1'] = np.random.randn(n_hidden[0], 1)\n",
    "    \n",
    "    for i in range(1, num_of_layers):\n",
    "        parameters['w'+str(i+1)] = np.random.randn(n_hidden[i], n_hidden[i-1])\n",
    "        parameters['b'+str(i+1)] = np.random.randn(n_hidden[i], 1)\n",
    "    \n",
    "    parameters['w'+str(num_of_layers+1)] = np.random.randn(1, n_hidden[num_of_layers-1])\n",
    "    parameters['b'+str(num_of_layers+1)] = np.random.randn(1, 1)\n",
    "\n",
    "    return parameters"
   ]
  },
  {
   "cell_type": "code",
   "execution_count": null,
   "metadata": {
    "colab": {
     "autoexec": {
      "startup": false,
      "wait_interval": 0
     }
    },
    "colab_type": "code",
    "id": "Jk3V_0ZZQKDv"
   },
   "outputs": [],
   "source": [
    "def relu(z):\n",
    "    return np.maximum(z, 0)\n",
    "\n",
    "def relu_derivative(z):\n",
    "    der = np.zeros(z.shape)\n",
    "    der[z >= 0] = 1\n",
    "    return der"
   ]
  },
  {
   "cell_type": "code",
   "execution_count": null,
   "metadata": {
    "colab": {
     "autoexec": {
      "startup": false,
      "wait_interval": 0
     }
    },
    "colab_type": "code",
    "id": "QW-sZthL40F7"
   },
   "outputs": [],
   "source": [
    "def forward_prop(x, parameters, activation, keep_prop=1.0):\n",
    "    cache = {}\n",
    "    last_layer = len(parameters) // 2\n",
    "    cache['a'+str(0)] = x\n",
    "    \n",
    "    for l in range(1, last_layer+1):\n",
    "        cache['z'+str(l)] = np.dot(parameters['w'+str(l)], cache['a'+str(l-1)]) + parameters['b'+str(l)]\n",
    "        if l == last_layer: \n",
    "            cache['a'+str(last_layer)] = 1/(1 + np.exp(-cache['z'+str(last_layer)]))\n",
    "        elif activation == 'relu':\n",
    "            cache['a'+str(l)] = relu(cache['z'+str(l)])\n",
    "        elif activation == 'sigmoid': \n",
    "            cache['a'+str(l)] = 1/(1 + np.exp(-cache['z'+str(l)]))\n",
    "        elif activation == 'tanh': \n",
    "            cache['a'+str(l)] = np.tanh(cache['z'+str(l)])\n",
    "        \n",
    "        if keep_prop != 1.0 and l != last_layer:\n",
    "            dropout_temp = np.random.randn(cache['a'+str(l)].shape[0], cache['a'+str(l)].shape[1]) < keep_prop\n",
    "            cache['a'+str(l)] = np.multiply(cache['a'+str(l)], dropout_temp) / keep_prop\n",
    "\n",
    "    return cache"
   ]
  },
  {
   "cell_type": "code",
   "execution_count": null,
   "metadata": {
    "colab": {
     "autoexec": {
      "startup": false,
      "wait_interval": 0
     }
    },
    "colab_type": "code",
    "id": "WuubFzLY42uO"
   },
   "outputs": [],
   "source": [
    "def back_prop(x, y, cache, parameters, activation, _lambda):\n",
    "    m = x.shape[1]\n",
    "    gradients = {}\n",
    "    last_layer = len(parameters) // 2\n",
    "    \n",
    "    gradients['dz'+str(last_layer)] = cache['a'+str(last_layer)] - y.T\n",
    "    gradients['dw'+str(last_layer)] = 1/m * np.dot(gradients['dz'+str(last_layer)], cache['a'+str(last_layer-1)].T) + _lambda/m * parameters['w'+str(last_layer)]\n",
    "    gradients['db'+str(last_layer)] = 1/m * np.sum(gradients['dz'+str(last_layer)], axis=1, keepdims=True)\n",
    "        \n",
    "    for i in reversed(range(1, last_layer)):\n",
    "        if activation == 'sigmoid': \n",
    "            sigmoid = 1/(1 + np.exp(-cache['z'+str(i)]))\n",
    "            gradients['dz'+str(i)] = np.dot(parameters['w'+str(i+1)].T, gradients['dz'+str(i+1)]) * (sigmoid * (1 - sigmoid))\n",
    "        elif activation == 'relu':\n",
    "            gradients['dz'+str(i)] = np.dot(parameters['w'+str(i+1)].T, gradients['dz'+str(i+1)]) * relu_derivative(cache['z'+str(i)])\n",
    "        elif activation == 'tanh': \n",
    "            gradients['dz'+str(i)] = np.dot(parameters['w'+str(i+1)].T, gradients['dz'+str(i+1)]) * (1 - np.power(np.tanh(cache['z'+str(i)]), 2))\n",
    "     \n",
    "        gradients['dw'+str(i)] = 1/m * np.dot(gradients['dz'+str(i)], cache['a'+str(i-1)].T) + _lambda/m * parameters['w'+str(i)]\n",
    "        gradients['db'+str(i)] = 1/m * np.sum(gradients['dz'+str(i)], axis=1, keepdims=True)\n",
    "    \n",
    "    return gradients"
   ]
  },
  {
   "cell_type": "code",
   "execution_count": null,
   "metadata": {
    "colab": {
     "autoexec": {
      "startup": false,
      "wait_interval": 0
     }
    },
    "colab_type": "code",
    "id": "1ZxmAytDQKEF"
   },
   "outputs": [],
   "source": [
    "def cost_function(m, labels, y_hat, params, lambd): # regularized\n",
    "    last_layer = len(params) // 2\n",
    "    return -1/m * (np.sum(labels * np.log(y_hat)) + np.sum((1-labels) * np.log(1 - y_hat))) + lambd/(2*m) * np.sum([\n",
    "            np.power(np.linalg.norm(params['w'+str(i)]), 2) for i in range(1, last_layer+1)])"
   ]
  },
  {
   "cell_type": "code",
   "execution_count": null,
   "metadata": {
    "colab": {
     "autoexec": {
      "startup": false,
      "wait_interval": 0
     }
    },
    "colab_type": "code",
    "id": "PSEIPO6845Zr"
   },
   "outputs": [],
   "source": [
    "def multi_Layered_NN(samples, labels, n_hidden, num_iterations, activation=\"tanh\", learning_rate=0.01, _lambda=0, keep_prob_dropout=1.0, print_cost=False):\n",
    "    m = samples.shape[1]\n",
    "    params = initialize_parameters(samples.shape[0], n_hidden)\n",
    "    cost_history = []\n",
    "    last_layer = len(params) // 2\n",
    "    \n",
    "    for i in range(1, num_iterations+1):\n",
    "        cache = forward_prop(samples, params, activation, keep_prob_dropout)\n",
    "        \n",
    "        gradients = back_prop(samples, labels, cache, params, activation, _lambda)\n",
    "        for j in range(1, last_layer+1):\n",
    "            params['w'+str(j)] -= learning_rate * gradients['dw'+str(j)]\n",
    "            params['b'+str(j)] -= learning_rate * gradients['db'+str(j)]\n",
    "\n",
    "        if print_cost and i%1000 == 0: \n",
    "            cost = cost_function(m, labels, cache['a'+str(last_layer)].T, params, _lambda)\n",
    "            print('cost after epoch {}: {}'.format(int(i/1000), cost))\n",
    "            cost_history.append(cost)\n",
    "\n",
    "    return {'parameters':params, \n",
    "            'cache': cache,\n",
    "            'cost_history':cost_history\n",
    "           }\n"
   ]
  },
  {
   "cell_type": "code",
   "execution_count": null,
   "metadata": {
    "colab": {
     "autoexec": {
      "startup": false,
      "wait_interval": 0
     }
    },
    "colab_type": "code",
    "id": "my_b07jt49FW"
   },
   "outputs": [],
   "source": [
    "def predict(x, parameters, activation):\n",
    "    last_layer = len(parameters) // 2\n",
    "    cache = forward_prop(x.T, parameters, activation)\n",
    "    y_hat = cache['a'+str(last_layer)]\n",
    "    y_hat[y_hat >= 0.5] = 1\n",
    "    y_hat[y_hat < 0.5] = 0\n",
    "\n",
    "    return y_hat.T"
   ]
  },
  {
   "cell_type": "markdown",
   "metadata": {
    "colab_type": "text",
    "id": "AfmbWYkWQKEv"
   },
   "source": [
    "## load dataset section"
   ]
  },
  {
   "cell_type": "code",
   "execution_count": null,
   "metadata": {
    "colab": {
     "autoexec": {
      "startup": false,
      "wait_interval": 0
     }
    },
    "colab_type": "code",
    "id": "Sa79EdngQKEz"
   },
   "outputs": [],
   "source": [
    "import scipy.io\n",
    "samples = scipy.io.loadmat('drive/ColabNotebooks/olivettifaces.mat')\n",
    "samples = samples['faces'].T\n",
    "labels = np.ones((samples.shape[0], 1))\n",
    "artificialZeroData = np.random.randint(0, 256, (samples.shape[0], samples.shape[1]))\n",
    "artificialZeroLabel = np.zeros((artificialZeroData.shape[0], 1))\n",
    "samples = np.vstack((samples, artificialZeroData))\n",
    "labels = np.vstack((labels, artificialZeroLabel))\n",
    "\n",
    "# import matplotlib.image as mpimg\n",
    "# imgplot = plt.imshow(samples[152, :].reshape(64, 64))\n",
    "# plt.show()\n",
    "\n",
    "_mean = np.mean(samples, axis=1).reshape(-1, 1)\n",
    "variance = (np.std(samples, axis=1)**2).reshape(-1, 1)\n",
    "samples = (samples - _mean)/variance\n",
    "\n",
    "samples_sparse = coo_matrix(samples)\n",
    "samples, samples_sparse, labels = shuffle(samples, samples_sparse, labels)\n",
    "\n",
    "train_data, test_data, train_label, test_label = train_test_split(samples, labels, test_size=0.30, random_state=4)"
   ]
  },
  {
   "cell_type": "code",
   "execution_count": null,
   "metadata": {
    "colab": {
     "autoexec": {
      "startup": false,
      "wait_interval": 0
     },
     "base_uri": "https://localhost:8080/",
     "height": 34
    },
    "colab_type": "code",
    "executionInfo": {
     "elapsed": 1706,
     "status": "ok",
     "timestamp": 1527955971569,
     "user": {
      "displayName": "soroush Hashemi",
      "photoUrl": "//lh5.googleusercontent.com/-eRnGp28C2NU/AAAAAAAAAAI/AAAAAAAAAC4/Rp-e87vQOaU/s50-c-k-no/photo.jpg",
      "userId": "110326575601442170965"
     },
     "user_tz": -270
    },
    "id": "pxDTquG5QKE8",
    "outputId": "6def158a-dfdf-45cf-f1ab-a4399807a093"
   },
   "outputs": [],
   "source": [
    "print(samples.shape, labels.shape)"
   ]
  },
  {
   "cell_type": "markdown",
   "metadata": {
    "colab_type": "text",
    "id": "Z9IH-_NnQKFP"
   },
   "source": [
    "## train section"
   ]
  },
  {
   "cell_type": "code",
   "execution_count": null,
   "metadata": {
    "colab": {
     "autoexec": {
      "startup": false,
      "wait_interval": 0
     },
     "base_uri": "https://localhost:8080/",
     "height": 208
    },
    "colab_type": "code",
    "executionInfo": {
     "elapsed": 1080127,
     "status": "ok",
     "timestamp": 1527958095176,
     "user": {
      "displayName": "soroush Hashemi",
      "photoUrl": "//lh5.googleusercontent.com/-eRnGp28C2NU/AAAAAAAAAAI/AAAAAAAAAC4/Rp-e87vQOaU/s50-c-k-no/photo.jpg",
      "userId": "110326575601442170965"
     },
     "user_tz": -270
    },
    "id": "ycSNfwRy4-3_",
    "outputId": "91b59691-67b8-40c3-e6da-88a075b47002"
   },
   "outputs": [],
   "source": [
    "import time\n",
    "\n",
    "tic = time.time()\n",
    "activation_function = 'tanh'\n",
    "model = multi_Layered_NN(train_data.T,\n",
    "                         train_label,\n",
    "                         activation=activation_function,\n",
    "                         n_hidden=[100, 200, 200, 100],\n",
    "                         num_iterations=10000,\n",
    "                         learning_rate=0.01,\n",
    "                         _lambda = 0.000000001,\n",
    "                         keep_prob_dropout= 0.7,\n",
    "                         print_cost=True)\n",
    "\n",
    "print(\"Train phase time:\", time.time()-tic)"
   ]
  },
  {
   "cell_type": "code",
   "execution_count": null,
   "metadata": {
    "colab": {
     "autoexec": {
      "startup": false,
      "wait_interval": 0
     },
     "base_uri": "https://localhost:8080/",
     "height": 52
    },
    "colab_type": "code",
    "executionInfo": {
     "elapsed": 1725,
     "status": "ok",
     "timestamp": 1527958103795,
     "user": {
      "displayName": "soroush Hashemi",
      "photoUrl": "//lh5.googleusercontent.com/-eRnGp28C2NU/AAAAAAAAAAI/AAAAAAAAAC4/Rp-e87vQOaU/s50-c-k-no/photo.jpg",
      "userId": "110326575601442170965"
     },
     "user_tz": -270
    },
    "id": "uRyJCdQeQKFd",
    "outputId": "83082306-f894-401f-864b-dcd62c84b66b"
   },
   "outputs": [],
   "source": [
    "pred_labels = predict(train_data, parameters=model['parameters'], activation=activation_function)\n",
    "print('accuracy on train set:', (np.sum(pred_labels == train_label)/pred_labels.size) * 100, '%')\n",
    "pred_labels = predict(test_data, parameters=model['parameters'], activation=activation_function)\n",
    "print('accuracy on test set:', (np.sum(pred_labels == test_label)/pred_labels.size) * 100, '%')"
   ]
  },
  {
   "cell_type": "markdown",
   "metadata": {
    "colab_type": "text",
    "id": "bqy13PV_QKFq"
   },
   "source": [
    "### plot cost value"
   ]
  },
  {
   "cell_type": "code",
   "execution_count": null,
   "metadata": {
    "colab": {
     "autoexec": {
      "startup": false,
      "wait_interval": 0
     },
     "base_uri": "https://localhost:8080/",
     "height": 347
    },
    "colab_type": "code",
    "executionInfo": {
     "elapsed": 1774,
     "status": "ok",
     "timestamp": 1527958116765,
     "user": {
      "displayName": "soroush Hashemi",
      "photoUrl": "//lh5.googleusercontent.com/-eRnGp28C2NU/AAAAAAAAAAI/AAAAAAAAAC4/Rp-e87vQOaU/s50-c-k-no/photo.jpg",
      "userId": "110326575601442170965"
     },
     "user_tz": -270
    },
    "id": "1SwQdN-zQKFw",
    "outputId": "480936f5-3924-4c1b-8d3b-e790b4e5292e"
   },
   "outputs": [],
   "source": [
    "plt.plot(range(len(model['cost_history'])), model['cost_history'])\n",
    "plt.show()"
   ]
  },
  {
   "cell_type": "markdown",
   "metadata": {
    "colab_type": "text",
    "id": "i5OuzRIEQKF5"
   },
   "source": [
    "### test an example of test set"
   ]
  },
  {
   "cell_type": "code",
   "execution_count": null,
   "metadata": {
    "colab": {
     "autoexec": {
      "startup": false,
      "wait_interval": 0
     },
     "base_uri": "https://localhost:8080/",
     "height": 384
    },
    "colab_type": "code",
    "executionInfo": {
     "elapsed": 3154,
     "status": "ok",
     "timestamp": 1527958154210,
     "user": {
      "displayName": "soroush Hashemi",
      "photoUrl": "//lh5.googleusercontent.com/-eRnGp28C2NU/AAAAAAAAAAI/AAAAAAAAAC4/Rp-e87vQOaU/s50-c-k-no/photo.jpg",
      "userId": "110326575601442170965"
     },
     "user_tz": -270
    },
    "id": "_2H7x-w_QKF8",
    "outputId": "d1c737ec-9ba2-435a-d712-6d7fe03111da"
   },
   "outputs": [],
   "source": [
    "photo_number = 11\n",
    "imgplot = plt.imshow(test_data[photo_number].reshape(64, 64))\n",
    "plt.show()\n",
    "pred_labels = predict(test_data[photo_number].reshape(1, -1), parameters=model['parameters'], activation=activation_function)\n",
    "print(pred_labels)\n",
    "if int(pred_labels[0][0]) == 1:\n",
    "    print('Human')\n",
    "else:\n",
    "    print('Not-Human')"
   ]
  },
  {
   "cell_type": "markdown",
   "metadata": {
    "colab_type": "text",
    "id": "BVy0VYQHQKGS"
   },
   "source": [
    "### predict an example from you\n",
    "It must be a 64*64 photo."
   ]
  },
  {
   "cell_type": "code",
   "execution_count": null,
   "metadata": {
    "colab": {
     "autoexec": {
      "startup": false,
      "wait_interval": 0
     }
    },
    "colab_type": "code",
    "id": "DNbgpqVuQKGX"
   },
   "outputs": [],
   "source": [
    "# myimg = mpimg.imread('myimg.jpg')\n",
    "# imgplot = plt.imshow(myimg)\n",
    "# print(myimg.shape)\n",
    "\n",
    "def predict_new_photo(photo_name):\n",
    "    # import photo and convert it to greyscale 64*64\n",
    "    x=Image.open(photo_name, 'r')\n",
    "    x=x.convert('L') #makes it greyscale\n",
    "    y=np.asarray(x.getdata(), dtype=np.float64).reshape((x.size[1],x.size[0]))\n",
    "    y=np.asarray(y, dtype=np.uint8) #if values still in range 0-255! \n",
    "    w=Image.fromarray(y,mode='L')\n",
    "    w.save('out.jpg')\n",
    "\n",
    "    # rotate imgae 90 degree\n",
    "    raw_img = Image.open(\"out.jpg\")\n",
    "    img = raw_img.rotate(90)\n",
    "    # img.show()\n",
    "    img.save(\"out.jpg\")\n",
    "\n",
    "    myimg = mpimg.imread('out.jpg')\n",
    "    imgplot = plt.imshow(myimg)\n",
    "\n",
    "    pred_labels = predict(myimg.reshape(1, -1), parameters=model['parameters'], activation=activation_function)\n",
    "    if int(pred_labels[0][0]) == 1:\n",
    "        print('Human')\n",
    "    else:\n",
    "        print('Not-Human')"
   ]
  },
  {
   "cell_type": "code",
   "execution_count": null,
   "metadata": {
    "colab": {
     "autoexec": {
      "startup": false,
      "wait_interval": 0
     },
     "base_uri": "https://localhost:8080/",
     "height": 455
    },
    "colab_type": "code",
    "executionInfo": {
     "elapsed": 5886,
     "status": "ok",
     "timestamp": 1527958170280,
     "user": {
      "displayName": "soroush Hashemi",
      "photoUrl": "//lh5.googleusercontent.com/-eRnGp28C2NU/AAAAAAAAAAI/AAAAAAAAAC4/Rp-e87vQOaU/s50-c-k-no/photo.jpg",
      "userId": "110326575601442170965"
     },
     "user_tz": -270
    },
    "id": "IbpzlDuuQKGu",
    "outputId": "c374917a-5397-4739-db89-20bd46592ba2"
   },
   "outputs": [],
   "source": [
    "m = 6\n",
    "plt.subplot(m,1, 1)\n",
    "predict_new_photo('drive/ColabNotebooks/myimg.jpg')\n",
    "plt.subplot(m,1, 2)\n",
    "predict_new_photo('drive/ColabNotebooks/myimg2.jpg')\n",
    "plt.subplot(m,1, 3)\n",
    "predict_new_photo('drive/ColabNotebooks/myimg3.jpg')\n",
    "plt.subplot(m,1, 4)\n",
    "predict_new_photo('drive/ColabNotebooks/myimg4.jpg')\n",
    "plt.subplot(m,1, 5)\n",
    "predict_new_photo('drive/ColabNotebooks/myimg6.jpg')\n",
    "plt.subplot(m,1, 6)\n",
    "predict_new_photo('drive/ColabNotebooks/myimg5.jpg')"
   ]
  },
  {
   "cell_type": "markdown",
   "metadata": {
    "colab_type": "text",
    "id": "LGDvIoZnQKHB"
   },
   "source": [
    "### run a package with the same parameters to check it"
   ]
  },
  {
   "cell_type": "code",
   "execution_count": null,
   "metadata": {
    "colab": {
     "autoexec": {
      "startup": false,
      "wait_interval": 0
     }
    },
    "colab_type": "code",
    "id": "g1fjZOZA5AqC",
    "outputId": "61205331-899f-4b94-e53e-083fc3eb0664"
   },
   "outputs": [],
   "source": [
    "from sklearn.neural_network import MLPClassifier\n",
    "\n",
    "clf = MLPClassifier(hidden_layer_sizes=(200, 500, 200), activation='tanh', solver='sgd', alpha=0, learning_rate_init=0.1, max_iter=10000)\n",
    "clf.fit(train_data, train_label)\n",
    "\n",
    "print('accuracy on train set:', clf.score(train_data, train_label)*100)\n",
    "print('accuracy on test set:', clf.score(test_data, test_label)*100)\n",
    "print('loss:', clf.loss_)"
   ]
  },
  {
   "cell_type": "code",
   "execution_count": null,
   "metadata": {
    "colab": {
     "autoexec": {
      "startup": false,
      "wait_interval": 0
     }
    },
    "colab_type": "code",
    "id": "Q09xchUWQKHT",
    "outputId": "eb48a887-1d17-42b2-ec97-5f2c713d0591"
   },
   "outputs": [],
   "source": [
    "myimg = mpimg.imread('out.jpg')\n",
    "print(clf.predict(myimg.reshape(1, -1)))"
   ]
  },
  {
   "cell_type": "code",
   "execution_count": null,
   "metadata": {
    "colab": {
     "autoexec": {
      "startup": false,
      "wait_interval": 0
     }
    },
    "colab_type": "code",
    "id": "1zlTvK1bQKHo"
   },
   "outputs": [],
   "source": []
  }
 ],
 "metadata": {
  "accelerator": "GPU",
  "colab": {
   "collapsed_sections": [],
   "default_view": {},
   "name": "multi_layered_nn.ipynb",
   "provenance": [
    {
     "file_id": "1o1u4EaQdlQ71NITAORhkZCc0dwPCS5Sn",
     "timestamp": 1526839703475
    },
    {
     "file_id": "1xOHj7OAibLd9i85-hlDIlyXKUmEjtwdB",
     "timestamp": 1526758920791
    }
   ],
   "version": "0.3.2",
   "views": {}
  },
  "kernelspec": {
   "display_name": "Python 3",
   "language": "python",
   "name": "python3"
  },
  "language_info": {
   "codemirror_mode": {
    "name": "ipython",
    "version": 3
   },
   "file_extension": ".py",
   "mimetype": "text/x-python",
   "name": "python",
   "nbconvert_exporter": "python",
   "pygments_lexer": "ipython3",
   "version": "3.6.3"
  }
 },
 "nbformat": 4,
 "nbformat_minor": 1
}
