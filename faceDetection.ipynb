{
 "cells": [
  {
   "cell_type": "code",
   "execution_count": 106,
   "metadata": {
    "colab": {
     "autoexec": {
      "startup": false,
      "wait_interval": 0
     },
     "base_uri": "https://localhost:8080/",
     "height": 106
    },
    "colab_type": "code",
    "executionInfo": {
     "elapsed": 27740,
     "status": "ok",
     "timestamp": 1528372536345,
     "user": {
      "displayName": "soroush Hashemi",
      "photoUrl": "//lh5.googleusercontent.com/-eRnGp28C2NU/AAAAAAAAAAI/AAAAAAAAAC4/Rp-e87vQOaU/s50-c-k-no/photo.jpg",
      "userId": "110326575601442170965"
     },
     "user_tz": -270
    },
    "id": "qbu17W8U4ABn",
    "outputId": "fae616bc-5947-4986-c113-ecfc6be8525a"
   },
   "outputs": [],
   "source": [
    "# !apt-get install -y -qq software-properties-common python-software-properties module-init-tools\n",
    "\n",
    "# !add-apt-repository -y ppa:alessandro-strada/ppa 2>&1 > /dev/null\n",
    "\n",
    "# !apt-get update -qq 2>&1 > /dev/null\n",
    "\n",
    "# !apt-get -y install -qq google-drive-ocamlfuse fuse\n",
    "\n",
    "# from google.colab import auth\n",
    "\n",
    "# auth.authenticate_user()\n",
    "\n",
    "\n",
    "# from oauth2client.client import GoogleCredentials\n",
    "\n",
    "# creds = GoogleCredentials.get_application_default()\n",
    "\n",
    "# import getpass\n",
    "\n",
    "# !google-drive-ocamlfuse -headless -id={creds.client_id} -secret={creds.client_secret} < /dev/null 2>&1 | grep URL\n",
    "\n",
    "# vcode = getpass.getpass()\n",
    "\n",
    "# !echo {vcode} | google-drive-ocamlfuse -headless -id={creds.client_id} -secret={creds.client_secret}\n",
    "\n",
    "\n",
    "# !mkdir -p drive\n",
    "\n",
    "# !google-drive-ocamlfuse drive"
   ]
  },
  {
   "cell_type": "code",
   "execution_count": 107,
   "metadata": {
    "colab": {
     "autoexec": {
      "startup": false,
      "wait_interval": 0
     }
    },
    "colab_type": "code",
    "id": "Q9cos-tpQ9Wg"
   },
   "outputs": [],
   "source": [
    "# !ls drive/ColabNotebooks/"
   ]
  },
  {
   "cell_type": "code",
   "execution_count": 108,
   "metadata": {
    "colab": {
     "autoexec": {
      "startup": false,
      "wait_interval": 0
     }
    },
    "colab_type": "code",
    "id": "0u7IgbUp4lWZ"
   },
   "outputs": [],
   "source": [
    "import numpy as np\n",
    "import csv\n",
    "import math\n",
    "from sklearn.model_selection import train_test_split\n",
    "from sklearn.utils import shuffle\n",
    "from scipy.sparse import coo_matrix\n",
    "import matplotlib.pyplot as plt\n",
    "import matplotlib.image as mpimg\n",
    "from PIL import Image"
   ]
  },
  {
   "cell_type": "code",
   "execution_count": 124,
   "metadata": {
    "colab": {
     "autoexec": {
      "startup": false,
      "wait_interval": 0
     }
    },
    "colab_type": "code",
    "id": "2-6j5r_z4tp0"
   },
   "outputs": [],
   "source": [
    "def initialize_parameters(n_input, n_hidden, solver): # initialize parameters with tiny random numbers\n",
    "    num_of_layers = len(n_hidden)\n",
    "    parameters = {}\n",
    "    v = {}\n",
    "    s = {}\n",
    "    \n",
    "    parameters['w1'] = np.random.randn(n_hidden[0], n_input) * np.sqrt(2/n_input)\n",
    "    parameters['b1'] = np.zeros((n_hidden[0], 1))\n",
    "    \n",
    "    if solver=='momentum' or solver=='adam':\n",
    "        v['dw1'] = np.zeros(parameters['w1'].shape)\n",
    "        v['db1'] = np.zeros(parameters['b1'].shape)\n",
    "    if solver=='rmsprop' or solver=='adam':\n",
    "        s['dw1'] = np.zeros(parameters['w1'].shape)\n",
    "        s['db1'] = np.zeros(parameters['b1'].shape)\n",
    "    \n",
    "    for i in range(1, num_of_layers):\n",
    "        parameters['w'+str(i+1)] = np.random.randn(n_hidden[i], n_hidden[i-1]) * np.sqrt(2/n_hidden[i-1])\n",
    "        parameters['b'+str(i+1)] = np.zeros((n_hidden[i], 1))\n",
    "        \n",
    "        if solver=='momentum' or solver=='adam':\n",
    "            v['dw'+str(i+1)] = np.zeros(parameters['w'+str(i+1)].shape)\n",
    "            v['db'+str(i+1)] = np.zeros(parameters['b'+str(i+1)].shape)\n",
    "        if solver=='rmsprop' or solver=='adam':\n",
    "            s['dw'+str(i+1)] = np.zeros(parameters['w'+str(i+1)].shape)\n",
    "            s['db'+str(i+1)] = np.zeros(parameters['b'+str(i+1)].shape)\n",
    "    \n",
    "    parameters['w'+str(num_of_layers+1)] = np.random.randn(1, n_hidden[num_of_layers-1]) * np.sqrt(2/n_hidden[num_of_layers-1])\n",
    "    parameters['b'+str(num_of_layers+1)] = np.zeros((1, 1))\n",
    "\n",
    "    if solver=='momentum' or solver=='adam':\n",
    "        v['dw'+str(num_of_layers+1)] = np.zeros(parameters['w'+str(num_of_layers+1)].shape)\n",
    "        v['db'+str(num_of_layers+1)] = np.zeros(parameters['b'+str(num_of_layers+1)].shape)\n",
    "    if solver=='rmsprop' or solver=='adam':\n",
    "        s['dw'+str(num_of_layers+1)] = np.zeros(parameters['w'+str(num_of_layers+1)].shape)\n",
    "        s['db'+str(num_of_layers+1)] = np.zeros(parameters['b'+str(num_of_layers+1)].shape)\n",
    "    \n",
    "    if solver=='momentum':\n",
    "        return parameters, v\n",
    "    elif solver=='rmsprop':\n",
    "        return parameters, s\n",
    "    elif solver=='adam':\n",
    "        return parameters, v, s\n",
    "    \n",
    "    return parameters"
   ]
  },
  {
   "cell_type": "code",
   "execution_count": 110,
   "metadata": {
    "colab": {
     "autoexec": {
      "startup": false,
      "wait_interval": 0
     }
    },
    "colab_type": "code",
    "id": "Jk3V_0ZZQKDv"
   },
   "outputs": [],
   "source": [
    "def relu(z):\n",
    "    return np.maximum(z, 0)\n",
    "\n",
    "def relu_derivative(z):\n",
    "    der = np.zeros(z.shape)\n",
    "    der[z >= 0] = 1\n",
    "    return der"
   ]
  },
  {
   "cell_type": "code",
   "execution_count": 111,
   "metadata": {
    "colab": {
     "autoexec": {
      "startup": false,
      "wait_interval": 0
     }
    },
    "colab_type": "code",
    "id": "QW-sZthL40F7"
   },
   "outputs": [],
   "source": [
    "def forward_prop(x, parameters, activation, keep_prob=1.0):\n",
    "    cache = {}\n",
    "    last_layer = len(parameters) // 2\n",
    "    cache['a'+str(0)] = x\n",
    "    \n",
    "    for l in range(1, last_layer+1):\n",
    "        cache['z'+str(l)] = np.dot(parameters['w'+str(l)], cache['a'+str(l-1)]) + parameters['b'+str(l)]\n",
    "        if l == last_layer: \n",
    "            cache['a'+str(last_layer)] = 1/(1 + np.exp(-cache['z'+str(last_layer)]))\n",
    "        elif activation == 'relu':\n",
    "            cache['a'+str(l)] = relu(cache['z'+str(l)])\n",
    "        elif activation == 'sigmoid': \n",
    "            cache['a'+str(l)] = 1/(1 + np.exp(-cache['z'+str(l)]))\n",
    "        elif activation == 'tanh': \n",
    "            cache['a'+str(l)] = np.tanh(cache['z'+str(l)])\n",
    "        \n",
    "        if keep_prob != 1.0 and l != last_layer:\n",
    "            dropout_temp = np.random.randn(cache['a'+str(l)].shape[0], cache['a'+str(l)].shape[1]) < keep_prob\n",
    "            cache['dropout_vec'+str(l)] = dropout_temp \n",
    "            cache['a'+str(l)] = np.multiply(cache['a'+str(l)], dropout_temp) / keep_prob\n",
    "\n",
    "    return cache"
   ]
  },
  {
   "cell_type": "code",
   "execution_count": 112,
   "metadata": {
    "colab": {
     "autoexec": {
      "startup": false,
      "wait_interval": 0
     }
    },
    "colab_type": "code",
    "id": "WuubFzLY42uO"
   },
   "outputs": [],
   "source": [
    "def back_prop(x, y, cache, parameters, activation, _lambda, keep_prob):\n",
    "    m = x.shape[1]\n",
    "    gradients = {}\n",
    "    last_layer = len(parameters) // 2\n",
    "\n",
    "    gradients['dz'+str(last_layer)] = cache['a'+str(last_layer)] - y.T\n",
    "    gradients['dw'+str(last_layer)] = 1/m * np.dot(gradients['dz'+str(last_layer)], cache['a'+str(last_layer-1)].T) + _lambda/m * parameters['w'+str(last_layer)]\n",
    "    gradients['db'+str(last_layer)] = 1/m * np.sum(gradients['dz'+str(last_layer)], axis=1, keepdims=True)\n",
    "        \n",
    "    for i in reversed(range(1, last_layer)):\n",
    "        dA = np.dot(parameters['w'+str(i+1)].T, gradients['dz'+str(i+1)])\n",
    "        if keep_prob != 1.0 and i != last_layer:\n",
    "            dA *= cache['dropout_vec'+str(i)]\n",
    "            dA /= keep_prob\n",
    "            \n",
    "        if activation == 'sigmoid': \n",
    "            sigmoid = 1/(1 + np.exp(-cache['z'+str(i)]))\n",
    "            gradients['dz'+str(i)] = dA * (sigmoid * (1 - sigmoid))\n",
    "        elif activation == 'relu':\n",
    "            gradients['dz'+str(i)] = dA * relu_derivative(cache['z'+str(i)])\n",
    "        elif activation == 'tanh': \n",
    "            gradients['dz'+str(i)] = dA * (1 - np.power(np.tanh(cache['z'+str(i)]), 2))\n",
    "            \n",
    "        gradients['dw'+str(i)] = 1/m * np.dot(gradients['dz'+str(i)], cache['a'+str(i-1)].T) + _lambda/m * parameters['w'+str(i)]\n",
    "        gradients['db'+str(i)] = 1/m * np.sum(gradients['dz'+str(i)], axis=1, keepdims=True)\n",
    "        \n",
    "    return gradients"
   ]
  },
  {
   "cell_type": "code",
   "execution_count": 113,
   "metadata": {
    "colab": {
     "autoexec": {
      "startup": false,
      "wait_interval": 0
     }
    },
    "colab_type": "code",
    "id": "1ZxmAytDQKEF"
   },
   "outputs": [],
   "source": [
    "def cost_function(m, labels, y_hat, params, lambd): # regularized\n",
    "    last_layer = len(params) // 2\n",
    "    return -1/m * (np.sum(labels * np.log(y_hat)) + np.sum((1-labels) * np.log(1 - y_hat))) + lambd/(2*m) * np.sum([\n",
    "            np.power(np.linalg.norm(params['w'+str(i)]), 2) for i in range(1, last_layer+1)])"
   ]
  },
  {
   "cell_type": "code",
   "execution_count": 114,
   "metadata": {
    "colab": {
     "autoexec": {
      "startup": false,
      "wait_interval": 0
     }
    },
    "colab_type": "code",
    "id": "DXavV7dnzMlI"
   },
   "outputs": [],
   "source": [
    "def load_weights(num):\n",
    "    parameters = {}\n",
    "    for i in range(1, num+1):\n",
    "        parameters[\"w\"+str(i)] = np.load(\"w\"+str(i)+\".npy\")\n",
    "        parameters[\"b\"+str(i)] = np.load(\"b\"+str(i)+\".npy\")\n",
    "    return parameters"
   ]
  },
  {
   "cell_type": "code",
   "execution_count": 115,
   "metadata": {},
   "outputs": [],
   "source": [
    "params = load_weights(4)"
   ]
  },
  {
   "cell_type": "code",
   "execution_count": 126,
   "metadata": {
    "colab": {
     "autoexec": {
      "startup": false,
      "wait_interval": 0
     }
    },
    "colab_type": "code",
    "id": "PSEIPO6845Zr"
   },
   "outputs": [],
   "source": [
    "def multi_Layer_NN(samples, labels, n_hidden, num_iterations, solver='gd', batch_size=None, activation=\"tanh\", learning_rate=0.01, momentum_param=0.9, rmsprop_param=0.999, epsilon=10e-8, _lambda=0, keep_prob_dropout=1.0, print_cost=False):\n",
    "    m = samples.shape[1]\n",
    "    if not batch_size: batch_size = m\n",
    "    \n",
    "    if solver=='gd':\n",
    "        params = initialize_parameters(samples.shape[0], n_hidden, solver)\n",
    "    elif solver=='momentum':\n",
    "        params, v = initialize_parameters(samples.shape[0], n_hidden, solver)\n",
    "    elif solver=='rmsprop':\n",
    "        params, s = initialize_parameters(samples.shape[0], n_hidden, solver)\n",
    "    elif solver=='adam':\n",
    "        params, v, s = initialize_parameters(samples.shape[0], n_hidden, solver)\n",
    "            \n",
    "    cost_history = []\n",
    "    last_layer = len(params) // 2\n",
    "    \n",
    "    for i in range(1, num_iterations+1):\n",
    "        \n",
    "        for t in range(math.ceil(m/batch_size)):\n",
    "            \n",
    "            cache = forward_prop(samples[:, int(t*batch_size):int((t+1)*batch_size)], params, activation, keep_prob_dropout)\n",
    "            \n",
    "            gradients = back_prop(samples[:, int(t*batch_size):int((t+1)*batch_size)],\n",
    "                                  labels[int(t*batch_size):int((t+1)*batch_size)], \n",
    "                                  cache, \n",
    "                                  params, \n",
    "                                  activation,\n",
    "                                  _lambda, \n",
    "                                  keep_prob_dropout)\n",
    "            \n",
    "            if solver=='gd':\n",
    "                for j in range(1, last_layer+1):\n",
    "                    params['w'+str(j)] -= learning_rate * gradients['dw'+str(j)]\n",
    "                    params['b'+str(j)] -= learning_rate * gradients['db'+str(j)]\n",
    "            elif solver=='momentum':\n",
    "                for j in range(1, last_layer+1):\n",
    "                    v['dw'+str(j)] = momentum_param*v['dw'+str(j)] + (1-momentum_param) * gradients['dw'+str(j)]\n",
    "                    v['db'+str(j)] = momentum_param*v['db'+str(j)] + (1-momentum_param) * gradients['db'+str(j)]\n",
    "                    params['w'+str(j)] -= learning_rate * v['dw'+str(j)]\n",
    "                    params['b'+str(j)] -= learning_rate * v['db'+str(j)]\n",
    "            elif solver=='rmsprop':\n",
    "                for j in range(1, last_layer+1):\n",
    "                    s['dw'+str(j)] = rmsprop_param*s['dw'+str(j)] + (1-rmsprop_param) * gradients['dw'+str(j)]**2\n",
    "                    s['db'+str(j)] = rmsprop_param*s['db'+str(j)] + (1-rmsprop_param) * gradients['db'+str(j)]**2\n",
    "                    params['w'+str(j)] -= learning_rate * gradients['dw'+str(j)]/(np.sqrt(s['dw'+str(j)] + epsilon))\n",
    "                    params['b'+str(j)] -= learning_rate * gradients['db'+str(j)]/(np.sqrt(s['db'+str(j)] + epsilon))\n",
    "            \n",
    "            elif solver=='adam':\n",
    "                for j in range(1, last_layer+1):\n",
    "                    v['dw'+str(j)] = momentum_param*v['dw'+str(j)] + (1-momentum_param) * gradients['dw'+str(j)]\n",
    "                    v['db'+str(j)] = momentum_param*v['db'+str(j)] + (1-momentum_param) * gradients['db'+str(j)]\n",
    "                    s['dw'+str(j)] = rmsprop_param*s['dw'+str(j)] + (1-rmsprop_param) * gradients['dw'+str(j)]**2\n",
    "                    s['db'+str(j)] = rmsprop_param*s['db'+str(j)] + (1-rmsprop_param) * gradients['db'+str(j)]**2\n",
    "                    v_corrected_dw = v['dw'+str(j)]/(1-momentum_param**i)\n",
    "                    v_corrected_db = v['db'+str(j)]/(1-momentum_param**i)\n",
    "                    s_corrected_dw = s['dw'+str(j)]/(1-rmsprop_param**i)\n",
    "                    s_corrected_db = s['db'+str(j)]/(1-rmsprop_param**i)\n",
    "                    params['w'+str(j)] -= learning_rate * v_corrected_dw/(np.sqrt(s_corrected_dw) + epsilon)\n",
    "                    params['b'+str(j)] -= learning_rate * v_corrected_db/(np.sqrt(s_corrected_db) + epsilon)\n",
    "            \n",
    "            if print_cost: \n",
    "                cost = cost_function(batch_size, labels[int(t*batch_size):int((t+1)*batch_size)], cache['a'+str(last_layer)].T, params, _lambda)\n",
    "                print('cost after epoch {}: {}'.format(int(i), cost))\n",
    "                cost_history.append(cost)\n",
    "              \n",
    "    return {'parameters':params, \n",
    "            'cache': cache,\n",
    "            'cost_history':cost_history\n",
    "           }\n"
   ]
  },
  {
   "cell_type": "code",
   "execution_count": 117,
   "metadata": {
    "colab": {
     "autoexec": {
      "startup": false,
      "wait_interval": 0
     }
    },
    "colab_type": "code",
    "id": "my_b07jt49FW"
   },
   "outputs": [],
   "source": [
    "def predict(x, parameters, activation):\n",
    "    last_layer = len(parameters) // 2\n",
    "    cache = forward_prop(x.T, parameters, activation)\n",
    "    y_hat = cache['a'+str(last_layer)]\n",
    "    y_hat[y_hat >= 0.5] = 1\n",
    "    y_hat[y_hat < 0.5] = 0\n",
    "\n",
    "    return y_hat.T"
   ]
  },
  {
   "cell_type": "markdown",
   "metadata": {
    "colab_type": "text",
    "id": "AfmbWYkWQKEv"
   },
   "source": [
    "## load dataset section"
   ]
  },
  {
   "cell_type": "code",
   "execution_count": 118,
   "metadata": {
    "colab": {
     "autoexec": {
      "startup": false,
      "wait_interval": 0
     }
    },
    "colab_type": "code",
    "id": "Sa79EdngQKEz"
   },
   "outputs": [],
   "source": [
    "import scipy.io\n",
    "samples = scipy.io.loadmat('olivettifaces.mat')\n",
    "samples = samples['faces'].T\n",
    "labels = np.ones((samples.shape[0], 1))\n",
    "artificialZeroData = np.random.randint(0, 256, (samples.shape[0], samples.shape[1]))\n",
    "artificialZeroLabel = np.zeros((artificialZeroData.shape[0], 1))\n",
    "samples = np.vstack((samples, artificialZeroData))\n",
    "labels = np.vstack((labels, artificialZeroLabel))\n",
    "\n",
    "_mean = np.mean(samples, axis=1).reshape(-1, 1)\n",
    "variance = (np.std(samples, axis=1)**2).reshape(-1, 1)\n",
    "samples = (samples - _mean)/variance\n",
    "\n",
    "samples_sparse = coo_matrix(samples)\n",
    "samples, samples_sparse, labels = shuffle(samples, samples_sparse, labels)\n",
    "\n",
    "train_data, test_data, train_label, test_label = train_test_split(samples, labels, test_size=0.30, random_state=4)"
   ]
  },
  {
   "cell_type": "code",
   "execution_count": 119,
   "metadata": {
    "colab": {
     "autoexec": {
      "startup": false,
      "wait_interval": 0
     },
     "base_uri": "https://localhost:8080/",
     "height": 69
    },
    "colab_type": "code",
    "executionInfo": {
     "elapsed": 1557,
     "status": "ok",
     "timestamp": 1528372735051,
     "user": {
      "displayName": "soroush Hashemi",
      "photoUrl": "//lh5.googleusercontent.com/-eRnGp28C2NU/AAAAAAAAAAI/AAAAAAAAAC4/Rp-e87vQOaU/s50-c-k-no/photo.jpg",
      "userId": "110326575601442170965"
     },
     "user_tz": -270
    },
    "id": "pxDTquG5QKE8",
    "outputId": "2de9ee95-35e0-44e7-cb14-6d46085c1ea8"
   },
   "outputs": [
    {
     "name": "stdout",
     "output_type": "stream",
     "text": [
      "(800, 4096) (800, 1)\n",
      "(560, 4096) (560, 1)\n",
      "(240, 4096) (240, 1)\n"
     ]
    }
   ],
   "source": [
    "print(samples.shape, labels.shape)\n",
    "print(train_data.shape, train_label.shape)\n",
    "print(test_data.shape, test_label.shape)"
   ]
  },
  {
   "cell_type": "markdown",
   "metadata": {
    "colab_type": "text",
    "id": "Z9IH-_NnQKFP"
   },
   "source": [
    "## train section"
   ]
  },
  {
   "cell_type": "code",
   "execution_count": 131,
   "metadata": {
    "colab": {
     "autoexec": {
      "startup": false,
      "wait_interval": 0
     },
     "base_uri": "https://localhost:8080/",
     "height": 78184
    },
    "colab_type": "code",
    "executionInfo": {
     "elapsed": 54329,
     "status": "ok",
     "timestamp": 1528374935657,
     "user": {
      "displayName": "soroush Hashemi",
      "photoUrl": "//lh5.googleusercontent.com/-eRnGp28C2NU/AAAAAAAAAAI/AAAAAAAAAC4/Rp-e87vQOaU/s50-c-k-no/photo.jpg",
      "userId": "110326575601442170965"
     },
     "user_tz": -270
    },
    "id": "ycSNfwRy4-3_",
    "outputId": "5475deb8-bab4-43ff-f61a-3b3ec4ddc358"
   },
   "outputs": [
    {
     "name": "stdout",
     "output_type": "stream",
     "text": [
      "cost after epoch 1: 0.7221779122316305\n",
      "cost after epoch 1: 0.6010288981870808\n",
      "cost after epoch 1: 0.26393060057120243\n",
      "cost after epoch 1: 0.09338593303780757\n",
      "cost after epoch 1: 0.01045000999677213\n",
      "cost after epoch 1: 0.014114131676732599\n",
      "cost after epoch 1: 1.0302771718735262e-05\n",
      "cost after epoch 1: 5.294089882633911e-06\n",
      "cost after epoch 1: 0.026877735848887318\n",
      "cost after epoch 2: 5.990137393146248e-08\n",
      "cost after epoch 2: 1.317515032734224e-07\n",
      "cost after epoch 2: 1.4096736551156539e-08\n",
      "cost after epoch 2: 1.1491769662769875e-08\n",
      "cost after epoch 2: 6.7258362682095e-09\n",
      "cost after epoch 2: 4.863125481352449e-09\n",
      "cost after epoch 2: 3.5247078825220257e-09\n",
      "cost after epoch 2: 2.6177815204236986e-09\n",
      "cost after epoch 2: 1.4608306389878196e-09\n",
      "cost after epoch 3: 1.3728334002501907e-09\n",
      "cost after epoch 3: 1.600863319770533e-09\n",
      "cost after epoch 3: 1.2071627578572065e-09\n",
      "cost after epoch 3: 1.2146846039235588e-09\n",
      "cost after epoch 3: 1.0796692940088843e-09\n",
      "cost after epoch 3: 1.0369432195016088e-09\n",
      "cost after epoch 3: 9.336921502292392e-10\n",
      "cost after epoch 3: 8.380423530182953e-10\n",
      "cost after epoch 3: 5.469460564473158e-10\n",
      "cost after epoch 4: 5.978868721924241e-10\n",
      "cost after epoch 4: 6.877573480401123e-10\n",
      "cost after epoch 4: 6.35487633271695e-10\n",
      "cost after epoch 4: 6.928135134970763e-10\n",
      "cost after epoch 4: 6.567717744230748e-10\n",
      "cost after epoch 4: 6.723367490780524e-10\n",
      "cost after epoch 4: 6.384410936756747e-10\n",
      "cost after epoch 4: 6.008679476675771e-10\n",
      "cost after epoch 4: 4.0819484094167974e-10\n",
      "cost after epoch 5: 4.6328756990924587e-10\n",
      "cost after epoch 5: 5.371315564871253e-10\n",
      "cost after epoch 5: 5.205008301190133e-10\n",
      "cost after epoch 5: 5.811742322449862e-10\n",
      "cost after epoch 5: 5.615440233109344e-10\n",
      "cost after epoch 5: 5.857650217885344e-10\n",
      "cost after epoch 5: 5.651565051488426e-10\n",
      "cost after epoch 5: 5.395270361019982e-10\n",
      "cost after epoch 5: 3.7098131351499817e-10\n",
      "cost after epoch 6: 4.2580429992724605e-10\n",
      "cost after epoch 6: 4.953899376037613e-10\n",
      "cost after epoch 6: 4.870365657510382e-10\n",
      "cost after epoch 6: 5.48045309002913e-10\n",
      "cost after epoch 6: 5.328166208877244e-10\n",
      "cost after epoch 6: 5.591922638853656e-10\n",
      "cost after epoch 6: 5.423166640021637e-10\n",
      "cost after epoch 6: 5.201277015183496e-10\n",
      "cost after epoch 6: 3.590519445554968e-10\n",
      "cost after epoch 7: 4.1361459754802036e-10\n",
      "cost after epoch 7: 4.818263533079448e-10\n",
      "cost after epoch 7: 4.759788970743874e-10\n",
      "cost after epoch 7: 5.370174706297944e-10\n",
      "cost after epoch 7: 5.231921876857854e-10\n",
      "cost after epoch 7: 5.502275217356888e-10\n",
      "cost after epoch 7: 5.345616867805378e-10\n",
      "cost after epoch 7: 5.134985945279911e-10\n",
      "cost after epoch 7: 3.5495005558525596e-10\n",
      "cost after epoch 8: 4.0939453054155224e-10\n",
      "cost after epoch 8: 4.771320319832604e-10\n",
      "cost after epoch 8: 4.721247318211278e-10\n",
      "cost after epoch 8: 5.331610051327235e-10\n",
      "cost after epoch 8: 5.198163307976279e-10\n",
      "cost after epoch 8: 5.470724448391974e-10\n",
      "cost after epoch 8: 5.318234569967437e-10\n",
      "cost after epoch 8: 5.111499853719284e-10\n",
      "cost after epoch 8: 3.534918036622525e-10\n",
      "cost after epoch 9: 4.078884418841741e-10\n",
      "cost after epoch 9: 4.754570541170631e-10\n",
      "cost after epoch 9: 4.707445303116267e-10\n",
      "cost after epoch 9: 5.317774798928682e-10\n",
      "cost after epoch 9: 5.186031692810589e-10\n",
      "cost after epoch 9: 5.459363779034015e-10\n",
      "cost after epoch 9: 5.308355389153541e-10\n",
      "cost after epoch 9: 5.103008469034481e-10\n",
      "cost after epoch 9: 3.529633999522108e-10\n",
      "cost after epoch 10: 4.073413222426211e-10\n",
      "cost after epoch 10: 4.748487282268753e-10\n",
      "cost after epoch 10: 4.702420676564964e-10\n",
      "cost after epoch 10: 5.312732235335999e-10\n",
      "cost after epoch 10: 5.181605112177561e-10\n",
      "cost after epoch 10: 5.45521284596151e-10\n",
      "cost after epoch 10: 5.304740745844037e-10\n",
      "cost after epoch 10: 5.099896722061051e-10\n",
      "cost after epoch 10: 3.5276948215359127e-10\n",
      "cost after epoch 11: 4.071401342179397e-10\n",
      "cost after epoch 11: 4.746250807372655e-10\n",
      "cost after epoch 11: 4.70056996947623e-10\n",
      "cost after epoch 11: 5.310873392393926e-10\n",
      "cost after epoch 11: 5.179971835329277e-10\n",
      "cost after epoch 11: 5.453679593268921e-10\n",
      "cost after epoch 11: 5.303403933238013e-10\n",
      "cost after epoch 11: 5.098744588116423e-10\n",
      "cost after epoch 11: 3.5269757266129197e-10\n",
      "cost after epoch 12: 4.0706542141251263e-10\n",
      "cost after epoch 12: 4.745420447285695e-10\n",
      "cost after epoch 12: 4.699881700589472e-10\n",
      "cost after epoch 12: 5.310181237726494e-10\n",
      "cost after epoch 12: 5.179363172902821e-10\n",
      "cost after epoch 12: 5.453107464118893e-10\n",
      "cost after epoch 12: 5.302904783904674e-10\n",
      "cost after epoch 12: 5.098313769540856e-10\n",
      "cost after epoch 12: 3.526706497529262e-10\n",
      "cost after epoch 13: 4.070373969547432e-10\n",
      "cost after epoch 13: 4.745109047074254e-10\n",
      "cost after epoch 13: 4.699623053319043e-10\n",
      "cost after epoch 13: 5.309920925121493e-10\n",
      "cost after epoch 13: 5.179133963889773e-10\n",
      "cost after epoch 13: 5.452891751254499e-10\n",
      "cost after epoch 13: 5.302716063337586e-10\n",
      "cost after epoch 13: 5.098150653492294e-10\n",
      "cost after epoch 13: 3.526604357010925e-10\n",
      "cost after epoch 14: 4.070267630998297e-10\n",
      "cost after epoch 14: 4.744990912405439e-10\n",
      "cost after epoch 14: 4.699524451636607e-10\n",
      "cost after epoch 14: 5.309821351993898e-10\n",
      "cost after epoch 14: 5.179046204229061e-10\n",
      "cost after epoch 14: 5.452808831472287e-10\n",
      "cost after epoch 14: 5.302643326382186e-10\n",
      "cost after epoch 14: 5.098087596293897e-10\n",
      "cost after epoch 14: 3.5265648573573503e-10\n",
      "cost after epoch 15: 4.0702262404961385e-10\n",
      "cost after epoch 15: 4.744944716719234e-10\n",
      "cost after epoch 15: 4.699485507094547e-10\n",
      "cost after epoch 15: 5.309782060507137e-10\n",
      "cost after epoch 15: 5.179011180162055e-10\n",
      "cost after epoch 15: 5.452775802337281e-10\n",
      "cost after epoch 15: 5.302614200375003e-10\n",
      "cost after epoch 15: 5.098062130553251e-10\n",
      "cost after epoch 15: 3.5265487764707166e-10\n",
      "cost after epoch 16: 4.0702092402060646e-10\n",
      "cost after epoch 16: 4.744926016400148e-10\n",
      "cost after epoch 16: 4.699469564985793e-10\n",
      "cost after epoch 16: 5.309765493897929e-10\n",
      "cost after epoch 16: 5.178996417665264e-10\n",
      "cost after epoch 16: 5.452761456174125e-10\n",
      "cost after epoch 16: 5.302601484851916e-10\n",
      "cost after epoch 16: 5.098050889545119e-10\n",
      "cost after epoch 16: 3.5265416294099904e-10\n",
      "cost after epoch 17: 4.0702014339504186e-10\n",
      "cost after epoch 17: 4.744917273393822e-10\n",
      "cost after epoch 17: 4.69946188016079e-10\n",
      "cost after epoch 17: 5.309757670295047e-10\n",
      "cost after epoch 17: 5.178989166521129e-10\n",
      "cost after epoch 17: 5.452754343807867e-10\n",
      "cost after epoch 17: 5.30259499698611e-10\n",
      "cost after epoch 17: 5.098045095568704e-10\n",
      "cost after epoch 17: 3.5265378303655754e-10\n",
      "cost after epoch 18: 4.0701972879613084e-10\n",
      "cost after epoch 18: 4.744912537598729e-10\n",
      "cost after epoch 18: 4.699457612741036e-10\n",
      "cost after epoch 18: 5.309753003888894e-10\n",
      "cost after epoch 18: 5.178984985837549e-10\n",
      "cost after epoch 18: 5.45274998965194e-10\n",
      "cost after epoch 18: 5.302590920385938e-10\n",
      "cost after epoch 18: 5.098041487343872e-10\n",
      "cost after epoch 18: 3.526535176238656e-10\n",
      "cost after epoch 19: 4.070194547098215e-10\n",
      "cost after epoch 19: 4.744909501832643e-10\n",
      "cost after epoch 19: 4.699454490238777e-10\n",
      "cost after epoch 19: 5.309749534441939e-10\n",
      "cost after epoch 19: 5.178981672515707e-10\n",
      "cost after epoch 19: 5.452746884496916e-10\n",
      "cost after epoch 19: 5.302587867272619e-10\n",
      "cost after epoch 19: 5.098038451577787e-10\n",
      "cost after epoch 19: 3.5265332333483605e-10\n",
      "cost after epoch 20: 4.0701922746104603e-10\n",
      "cost after epoch 20: 4.744906830358488e-10\n",
      "cost after epoch 20: 4.699452078973143e-10\n",
      "cost after epoch 20: 5.309746810926079e-10\n",
      "cost after epoch 20: 5.178978983694318e-10\n",
      "cost after epoch 20: 5.452743866078065e-10\n",
      "cost after epoch 20: 5.302585039673352e-10\n",
      "cost after epoch 20: 5.098035901534276e-10\n",
      "cost after epoch 20: 3.5265313598470054e-10\n",
      "cost after epoch 21: 4.0701902276367576e-10\n",
      "cost after epoch 21: 4.744904661954142e-10\n",
      "cost after epoch 21: 4.699449650360276e-10\n",
      "cost after epoch 21: 5.309744035368515e-10\n",
      "cost after epoch 21: 5.178976572428684e-10\n",
      "cost after epoch 21: 5.452741298687319e-10\n",
      "cost after epoch 21: 5.302582437588136e-10\n",
      "cost after epoch 21: 5.09803329944906e-10\n",
      "cost after epoch 21: 3.5265299026792845e-10\n",
      "cost after epoch 22: 4.0701881459685854e-10\n",
      "cost after epoch 22: 4.744902493549796e-10\n",
      "cost after epoch 22: 4.699447499303164e-10\n",
      "cost after epoch 22: 5.309741624102882e-10\n",
      "cost after epoch 22: 5.178973987690703e-10\n",
      "cost after epoch 22: 5.452738713949337e-10\n"
     ]
    },
    {
     "name": "stdout",
     "output_type": "stream",
     "text": [
      "cost after epoch 22: 5.302579991628032e-10\n",
      "cost after epoch 22: 5.098030940225131e-10\n",
      "cost after epoch 22: 3.526528063872399e-10\n",
      "cost after epoch 23: 4.070186393897873e-10\n",
      "cost after epoch 23: 4.744900325145449e-10\n",
      "cost after epoch 23: 4.699445192120939e-10\n",
      "cost after epoch 23: 5.309739178142779e-10\n",
      "cost after epoch 23: 5.178971663161243e-10\n",
      "cost after epoch 23: 5.452736007780713e-10\n",
      "cost after epoch 23: 5.302577563015164e-10\n",
      "cost after epoch 23: 5.098028581001202e-10\n",
      "cost after epoch 23: 3.5265264852740343e-10\n",
      "cost after epoch 24: 4.0701844163131094e-10\n",
      "cost after epoch 24: 4.744898139393867e-10\n",
      "cost after epoch 24: 4.699443006369359e-10\n",
      "cost after epoch 24: 5.309736680140971e-10\n",
      "cost after epoch 24: 5.178969199853905e-10\n",
      "cost after epoch 24: 5.452733613862315e-10\n",
      "cost after epoch 24: 5.302575082360591e-10\n",
      "cost after epoch 24: 5.098026187082803e-10\n",
      "cost after epoch 24: 3.5265248546339663e-10\n",
      "cost after epoch 25: 4.0701826295479287e-10\n",
      "cost after epoch 25: 4.744895953642287e-10\n",
      "cost after epoch 25: 4.699440942048421e-10\n",
      "cost after epoch 25: 5.309734355611511e-10\n",
      "cost after epoch 25: 5.178966875324446e-10\n",
      "cost after epoch 25: 5.452730977082629e-10\n",
      "cost after epoch 25: 5.302572619053253e-10\n",
      "cost after epoch 25: 5.09802403602569e-10\n",
      "cost after epoch 25: 3.526523206646663e-10\n",
      "cost after epoch 26: 4.070180946866156e-10\n",
      "cost after epoch 26: 4.744894062793697e-10\n",
      "cost after epoch 26: 4.699438756296839e-10\n",
      "cost after epoch 26: 5.309731788220766e-10\n",
      "cost after epoch 26: 5.178964585489456e-10\n",
      "cost after epoch 26: 5.452728739289343e-10\n",
      "cost after epoch 26: 5.302570311871029e-10\n",
      "cost after epoch 26: 5.098021555371119e-10\n",
      "cost after epoch 26: 3.526521836215116e-10\n",
      "cost after epoch 27: 4.070178778461809e-10\n",
      "cost after epoch 27: 4.744891998472758e-10\n",
      "cost after epoch 27: 4.699436761364841e-10\n",
      "cost after epoch 27: 5.30972955042748e-10\n",
      "cost after epoch 27: 5.178962208918293e-10\n",
      "cost after epoch 27: 5.452726223940301e-10\n",
      "cost after epoch 27: 5.302567883258161e-10\n",
      "cost after epoch 27: 5.098019404314006e-10\n",
      "cost after epoch 27: 3.526520118838874e-10\n",
      "cost after epoch 28: 4.0701771651689757e-10\n",
      "cost after epoch 28: 4.74488989945735e-10\n",
      "cost after epoch 28: 4.699434471529852e-10\n",
      "cost after epoch 28: 5.309727069772907e-10\n",
      "cost after epoch 28: 5.178959971125007e-10\n",
      "cost after epoch 28: 5.452723656549555e-10\n",
      "cost after epoch 28: 5.302565524034231e-10\n",
      "cost after epoch 28: 5.098017183867956e-10\n",
      "cost after epoch 28: 3.5265186096294487e-10\n",
      "cost after epoch 29: 4.070175447792734e-10\n",
      "cost after epoch 29: 4.74488778309471e-10\n",
      "cost after epoch 29: 4.699432441903383e-10\n",
      "cost after epoch 29: 5.309724797285151e-10\n",
      "cost after epoch 29: 5.178957594553843e-10\n",
      "cost after epoch 29: 5.452721366714565e-10\n",
      "cost after epoch 29: 5.302563182157538e-10\n",
      "cost after epoch 29: 5.098014737907853e-10\n",
      "cost after epoch 29: 3.5265170657255535e-10\n",
      "cost after epoch 30: 4.0701734702079703e-10\n",
      "cost after epoch 30: 4.744885753468241e-10\n",
      "cost after epoch 30: 4.699430499013087e-10\n",
      "cost after epoch 30: 5.309722386019518e-10\n",
      "cost after epoch 30: 5.178955252677149e-10\n",
      "cost after epoch 30: 5.452718851365523e-10\n",
      "cost after epoch 30: 5.302560892322547e-10\n",
      "cost after epoch 30: 5.098012656239681e-10\n",
      "cost after epoch 30: 3.5265154524327193e-10\n",
      "cost after epoch 31: 4.070171822220667e-10\n",
      "cost after epoch 31: 4.744883827925181e-10\n",
      "cost after epoch 31: 4.699428226525334e-10\n",
      "cost after epoch 31: 5.309719974753885e-10\n",
      "cost after epoch 31: 5.178953049578332e-10\n",
      "cost after epoch 31: 5.452716474794358e-10\n",
      "cost after epoch 31: 5.302558515751383e-10\n",
      "cost after epoch 31: 5.098010314362987e-10\n",
      "cost after epoch 31: 3.526513995264999e-10\n",
      "cost after epoch 32: 4.0701698446359035e-10\n",
      "cost after epoch 32: 4.744881815645948e-10\n",
      "cost after epoch 32: 4.699426300982275e-10\n",
      "cost after epoch 32: 5.309717771655069e-10\n",
      "cost after epoch 32: 5.178950846479517e-10\n",
      "cost after epoch 32: 5.452714028834255e-10\n",
      "cost after epoch 32: 5.302556104485751e-10\n",
      "cost after epoch 32: 5.098008111264171e-10\n",
      "cost after epoch 32: 3.526512260541522e-10\n",
      "cost after epoch 33: 4.0701681446068955e-10\n",
      "cost after epoch 33: 4.744879664588836e-10\n",
      "cost after epoch 33: 4.699424115230693e-10\n",
      "cost after epoch 33: 5.309715447125609e-10\n",
      "cost after epoch 33: 5.178948573991761e-10\n",
      "cost after epoch 33: 5.452711496137979e-10\n",
      "cost after epoch 33: 5.30255381465076e-10\n",
      "cost after epoch 33: 5.098005942859823e-10\n",
      "cost after epoch 33: 3.526510890109975e-10\n",
      "cost after epoch 34: 4.0701664272306537e-10\n",
      "cost after epoch 34: 4.744877808434714e-10\n",
      "cost after epoch 34: 4.69942206825699e-10\n",
      "cost after epoch 34: 5.309712983818272e-10\n",
      "cost after epoch 34: 5.178946301504006e-10\n",
      "cost after epoch 34: 5.452709293039163e-10\n",
      "cost after epoch 34: 5.30255152481577e-10\n",
      "cost after epoch 34: 5.09800353159419e-10\n",
      "cost after epoch 34: 3.526509380900549e-10\n",
      "cost after epoch 35: 4.0701645710765334e-10\n",
      "cost after epoch 35: 4.744875761461013e-10\n",
      "cost after epoch 35: 4.699420108019461e-10\n",
      "cost after epoch 35: 5.30971079806669e-10\n",
      "cost after epoch 35: 5.178943942280076e-10\n",
      "cost after epoch 35: 5.452706881773529e-10\n",
      "cost after epoch 35: 5.302549148244607e-10\n",
      "cost after epoch 35: 5.098001432578783e-10\n",
      "cost after epoch 35: 3.526507680871541e-10\n",
      "cost after epoch 36: 4.0701628363530564e-10\n",
      "cost after epoch 36: 4.744873714487309e-10\n",
      "cost after epoch 36: 4.69941795696235e-10\n",
      "cost after epoch 36: 5.309708456189995e-10\n",
      "cost after epoch 36: 5.178941895306373e-10\n",
      "cost after epoch 36: 5.452704470507896e-10\n",
      "cost after epoch 36: 5.302546893104086e-10\n",
      "cost after epoch 36: 5.097999229479965e-10\n",
      "cost after epoch 36: 3.5265063104399947e-10\n",
      "cost after epoch 37: 4.070161205712988e-10\n",
      "cost after epoch 37: 4.744871754249779e-10\n",
      "cost after epoch 37: 4.699415979377585e-10\n",
      "cost after epoch 37: 5.309706044924362e-10\n",
      "cost after epoch 37: 5.178939553429679e-10\n",
      "cost after epoch 37: 5.452702145978437e-10\n",
      "cost after epoch 37: 5.302544637963566e-10\n",
      "cost after epoch 37: 5.097996887603272e-10\n",
      "cost after epoch 37: 3.526504835925039e-10\n",
      "cost after epoch 38: 4.070159245475459e-10\n",
      "cost after epoch 38: 4.744869655234372e-10\n",
      "cost after epoch 38: 4.699413863014944e-10\n",
      "cost after epoch 38: 5.309703945908955e-10\n",
      "cost after epoch 38: 5.178937246247454e-10\n",
      "cost after epoch 38: 5.452699769407272e-10\n",
      "cost after epoch 38: 5.302542261392402e-10\n",
      "cost after epoch 38: 5.097994892671272e-10\n",
      "cost after epoch 38: 3.5265031532432663e-10\n",
      "cost after epoch 39: 4.070157666877095e-10\n",
      "cost after epoch 39: 4.744867781733017e-10\n",
      "cost after epoch 39: 4.69941185073571e-10\n",
      "cost after epoch 39: 5.309701447907147e-10\n",
      "cost after epoch 39: 5.178935008454169e-10\n",
      "cost after epoch 39: 5.452697427530579e-10\n",
      "cost after epoch 39: 5.302540040946352e-10\n",
      "cost after epoch 39: 5.097992550794579e-10\n",
      "cost after epoch 39: 3.5265017654644845e-10\n",
      "cost after epoch 40: 4.0701557413340355e-10\n",
      "cost after epoch 40: 4.744865838842722e-10\n",
      "cost after epoch 40: 4.699409925192651e-10\n",
      "cost after epoch 40: 5.309699192766626e-10\n",
      "cost after epoch 40: 5.178932805355352e-10\n",
      "cost after epoch 40: 5.452695068306649e-10\n",
      "cost after epoch 40: 5.302537716416891e-10\n",
      "cost after epoch 40: 5.097990365042997e-10\n",
      "cost after epoch 40: 3.5265001174771813e-10\n",
      "cost after epoch 41: 4.070153989263324e-10\n",
      "cost after epoch 41: 4.74486368778561e-10\n",
      "cost after epoch 41: 4.699407635357662e-10\n",
      "cost after epoch 41: 5.309696920278872e-10\n",
      "cost after epoch 41: 5.178930584909301e-10\n",
      "cost after epoch 41: 5.452692500915903e-10\n",
      "cost after epoch 41: 5.302535357192961e-10\n",
      "cost after epoch 41: 5.097988179291416e-10\n",
      "cost after epoch 41: 3.526498712351165e-10\n",
      "cost after epoch 42: 4.0701524627066644e-10\n",
      "cost after epoch 42: 4.74486179693702e-10\n",
      "cost after epoch 42: 4.69940577920354e-10\n",
      "cost after epoch 42: 5.309694595749412e-10\n",
      "cost after epoch 42: 5.178928277727077e-10\n",
      "cost after epoch 42: 5.452690349858791e-10\n",
      "cost after epoch 42: 5.302533084705207e-10\n",
      "cost after epoch 42: 5.097985802720253e-10\n",
      "cost after epoch 42: 3.526497099058331e-10\n",
      "cost after epoch 43: 4.070150502469136e-10\n",
      "cost after epoch 43: 4.744859854046726e-10\n",
      "cost after epoch 43: 4.699403836313245e-10\n",
      "cost after epoch 43: 5.309692271219952e-10\n",
      "cost after epoch 43: 5.178926039933792e-10\n",
      "cost after epoch 43: 5.452687851856983e-10\n",
      "cost after epoch 43: 5.302530690786809e-10\n",
      "cost after epoch 43: 5.097983773093784e-10\n",
      "cost after epoch 43: 3.5264955725016706e-10\n"
     ]
    },
    {
     "name": "stdout",
     "output_type": "stream",
     "text": [
      "cost after epoch 44: 4.070148785092894e-10\n",
      "cost after epoch 44: 4.744857755031318e-10\n",
      "cost after epoch 44: 4.699401650561665e-10\n",
      "cost after epoch 44: 5.309690016079432e-10\n",
      "cost after epoch 44: 5.17892385418221e-10\n",
      "cost after epoch 44: 5.452685440591349e-10\n",
      "cost after epoch 44: 5.302528418299052e-10\n",
      "cost after epoch 44: 5.097981517953263e-10\n",
      "cost after epoch 44: 3.5264942194173583e-10\n",
      "cost after epoch 45: 4.070147067716651e-10\n",
      "cost after epoch 45: 4.744855829488259e-10\n",
      "cost after epoch 45: 4.699399725018605e-10\n",
      "cost after epoch 45: 5.309687778286146e-10\n",
      "cost after epoch 45: 5.178921668430628e-10\n",
      "cost after epoch 45: 5.452683185450831e-10\n",
      "cost after epoch 45: 5.302526267241941e-10\n",
      "cost after epoch 45: 5.097979314854448e-10\n",
      "cost after epoch 45: 3.5264925714300546e-10\n",
      "cost after epoch 46: 4.0701452289097654e-10\n",
      "cost after epoch 46: 4.744853869250729e-10\n",
      "cost after epoch 46: 4.699397504572555e-10\n",
      "cost after epoch 46: 5.309685471103921e-10\n",
      "cost after epoch 46: 5.178919413290108e-10\n",
      "cost after epoch 46: 5.452680704796258e-10\n",
      "cost after epoch 46: 5.302523786587368e-10\n",
      "cost after epoch 46: 5.09797721583904e-10\n",
      "cost after epoch 46: 3.526491131609569e-10\n",
      "cost after epoch 47: 4.070143632964167e-10\n",
      "cost after epoch 47: 4.744851961054905e-10\n",
      "cost after epoch 47: 4.699395457598852e-10\n",
      "cost after epoch 47: 5.309683059838287e-10\n",
      "cost after epoch 47: 5.178917036718944e-10\n",
      "cost after epoch 47: 5.452678449655737e-10\n",
      "cost after epoch 47: 5.302521600835788e-10\n",
      "cost after epoch 47: 5.09797492600405e-10\n",
      "cost after epoch 47: 3.5264895877056744e-10\n",
      "cost after epoch 48: 4.070141672726638e-10\n",
      "cost after epoch 48: 4.744850000817376e-10\n",
      "cost after epoch 48: 4.699393584097496e-10\n",
      "cost after epoch 48: 5.309680943475646e-10\n",
      "cost after epoch 48: 5.178914885661832e-10\n",
      "cost after epoch 48: 5.452676090431808e-10\n",
      "cost after epoch 48: 5.302519415084207e-10\n",
      "cost after epoch 48: 5.097972705557999e-10\n",
      "cost after epoch 48: 3.52648797441284e-10\n",
      "cost after epoch 49: 4.0701400073921e-10\n",
      "cost after epoch 49: 4.744847867107498e-10\n",
      "cost after epoch 49: 4.69939141569315e-10\n",
      "cost after epoch 49: 5.309678601598951e-10\n",
      "cost after epoch 49: 5.178912647868546e-10\n",
      "cost after epoch 49: 5.452673679166174e-10\n",
      "cost after epoch 49: 5.302517003818573e-10\n",
      "cost after epoch 49: 5.097970571848121e-10\n",
      "cost after epoch 49: 3.526486534592354e-10\n",
      "cost after epoch 50: 4.0701383594047964e-10\n",
      "cost after epoch 50: 4.744845976258907e-10\n",
      "cost after epoch 50: 4.699389438108386e-10\n",
      "cost after epoch 50: 5.309676225027787e-10\n",
      "cost after epoch 50: 5.178910375380791e-10\n",
      "cost after epoch 50: 5.452671285247776e-10\n",
      "cost after epoch 50: 5.302514748678052e-10\n",
      "cost after epoch 50: 5.097968247318663e-10\n",
      "cost after epoch 50: 3.526485025382929e-10\n",
      "Train phase time: 16.61612892150879\n"
     ]
    }
   ],
   "source": [
    "import time\n",
    "\n",
    "tic = time.time()\n",
    "activation_function = 'tanh'\n",
    "model = multi_Layer_NN(train_data.T,\n",
    "                         train_label,\n",
    "                         activation=activation_function,\n",
    "                         n_hidden=[100, 100, 100],\n",
    "                         num_iterations=50,\n",
    "                         solver='adam',\n",
    "                         momentum_param=0.9,\n",
    "                         rmsprop_param=0.999,\n",
    "                         epsilon=10e-2,\n",
    "                         batch_size=64,\n",
    "                         learning_rate=0.1,\n",
    "                         _lambda = 0,\n",
    "                         keep_prob_dropout=1,\n",
    "                         print_cost=True)\n",
    "\n",
    "print(\"Train phase time:\", time.time()-tic)"
   ]
  },
  {
   "cell_type": "code",
   "execution_count": 132,
   "metadata": {
    "colab": {
     "autoexec": {
      "startup": false,
      "wait_interval": 0
     },
     "base_uri": "https://localhost:8080/",
     "height": 52
    },
    "colab_type": "code",
    "executionInfo": {
     "elapsed": 1909,
     "status": "ok",
     "timestamp": 1528374958384,
     "user": {
      "displayName": "soroush Hashemi",
      "photoUrl": "//lh5.googleusercontent.com/-eRnGp28C2NU/AAAAAAAAAAI/AAAAAAAAAC4/Rp-e87vQOaU/s50-c-k-no/photo.jpg",
      "userId": "110326575601442170965"
     },
     "user_tz": -270
    },
    "id": "uRyJCdQeQKFd",
    "outputId": "013a6e17-2aa1-4cdd-bd6a-0da39bf809c0"
   },
   "outputs": [
    {
     "name": "stdout",
     "output_type": "stream",
     "text": [
      "accuracy on train set: 100.0 %\n",
      "accuracy on test set: 100.0 %\n"
     ]
    }
   ],
   "source": [
    "pred_labels = predict(train_data, parameters=model['parameters'], activation=activation_function)\n",
    "print('accuracy on train set:', (np.sum(pred_labels == train_label)/pred_labels.size) * 100, '%')\n",
    "pred_labels = predict(test_data, parameters=model['parameters'], activation=activation_function)\n",
    "print('accuracy on test set:', (np.sum(pred_labels == test_label)/pred_labels.size) * 100, '%')"
   ]
  },
  {
   "cell_type": "markdown",
   "metadata": {
    "colab_type": "text",
    "id": "bqy13PV_QKFq"
   },
   "source": [
    "### plot cost value"
   ]
  },
  {
   "cell_type": "code",
   "execution_count": 133,
   "metadata": {
    "colab": {
     "autoexec": {
      "startup": false,
      "wait_interval": 0
     },
     "base_uri": "https://localhost:8080/",
     "height": 347
    },
    "colab_type": "code",
    "executionInfo": {
     "elapsed": 1701,
     "status": "ok",
     "timestamp": 1528374960505,
     "user": {
      "displayName": "soroush Hashemi",
      "photoUrl": "//lh5.googleusercontent.com/-eRnGp28C2NU/AAAAAAAAAAI/AAAAAAAAAC4/Rp-e87vQOaU/s50-c-k-no/photo.jpg",
      "userId": "110326575601442170965"
     },
     "user_tz": -270
    },
    "id": "1SwQdN-zQKFw",
    "outputId": "31f2881a-51a0-453b-dd93-0b18ab1f8f6d"
   },
   "outputs": [
    {
     "data": {
      "image/png": "[encoded data removed]",
      "text/plain": [
       "<matplotlib.figure.Figure at 0x7fddbb14a198>"
      ]
     },
     "metadata": {},
     "output_type": "display_data"
    }
   ],
   "source": [
    "plt.plot(range(len(model['cost_history'])), model['cost_history'])\n",
    "plt.show()"
   ]
  },
  {
   "cell_type": "markdown",
   "metadata": {
    "colab_type": "text",
    "id": "i5OuzRIEQKF5"
   },
   "source": [
    "### test an example of test set"
   ]
  },
  {
   "cell_type": "code",
   "execution_count": 141,
   "metadata": {
    "colab": {
     "autoexec": {
      "startup": false,
      "wait_interval": 0
     },
     "base_uri": "https://localhost:8080/",
     "height": 384
    },
    "colab_type": "code",
    "executionInfo": {
     "elapsed": 1941,
     "status": "ok",
     "timestamp": 1528374970834,
     "user": {
      "displayName": "soroush Hashemi",
      "photoUrl": "//lh5.googleusercontent.com/-eRnGp28C2NU/AAAAAAAAAAI/AAAAAAAAAC4/Rp-e87vQOaU/s50-c-k-no/photo.jpg",
      "userId": "110326575601442170965"
     },
     "user_tz": -270
    },
    "id": "_2H7x-w_QKF8",
    "outputId": "c98eb352-b07c-4d05-ec09-1c902b9487f7"
   },
   "outputs": [
    {
     "data": {
      "image/png": "[encoded data removed]",
      "text/plain": [
       "<matplotlib.figure.Figure at 0x7fddbb1ecda0>"
      ]
     },
     "metadata": {},
     "output_type": "display_data"
    },
    {
     "name": "stdout",
     "output_type": "stream",
     "text": [
      "[[1.]]\n",
      "Human\n"
     ]
    }
   ],
   "source": [
    "photo_number = np.random.randint(0, test_data.shape[0])\n",
    "imgplot = plt.imshow(test_data[photo_number].reshape(64, 64))\n",
    "plt.show()\n",
    "pred_labels = predict(test_data[photo_number].reshape(1, -1), parameters=params, activation='tanh')\n",
    "print(pred_labels)\n",
    "if int(pred_labels[0][0]) == 1:\n",
    "    print('Human')\n",
    "else:\n",
    "    print('Not-Human')"
   ]
  },
  {
   "cell_type": "markdown",
   "metadata": {
    "colab_type": "text",
    "id": "zFX6wwPvQbcY"
   },
   "source": [
    "## Save the model in files"
   ]
  },
  {
   "cell_type": "code",
   "execution_count": null,
   "metadata": {
    "colab": {
     "autoexec": {
      "startup": false,
      "wait_interval": 0
     }
    },
    "colab_type": "code",
    "id": "nav0_CuqySGQ"
   },
   "outputs": [],
   "source": [
    "def save_weights(parameters):\n",
    "    for i in range(1, (len(parameters)//2)+1):\n",
    "        np.save(\"drive/ColabNotebooks/w\"+str(i), parameters['w'+str(i)])\n",
    "        np.save(\"drive/ColabNotebooks/b\"+str(i), parameters['b'+str(i)])"
   ]
  },
  {
   "cell_type": "code",
   "execution_count": null,
   "metadata": {
    "colab": {
     "autoexec": {
      "startup": false,
      "wait_interval": 0
     }
    },
    "colab_type": "code",
    "id": "Kn1AF7RiQmYM"
   },
   "outputs": [],
   "source": [
    "save_weights(model['parameters'])"
   ]
  },
  {
   "cell_type": "markdown",
   "metadata": {
    "colab_type": "text",
    "id": "BVy0VYQHQKGS"
   },
   "source": [
    "### predict an example from you\n",
    "It must be a 64*64 photo."
   ]
  },
  {
   "cell_type": "code",
   "execution_count": 142,
   "metadata": {
    "colab": {
     "autoexec": {
      "startup": false,
      "wait_interval": 0
     }
    },
    "colab_type": "code",
    "id": "DNbgpqVuQKGX"
   },
   "outputs": [],
   "source": [
    "# myimg = mpimg.imread('myimg.jpg')\n",
    "# imgplot = plt.imshow(myimg)\n",
    "# print(myimg.shape)\n",
    "\n",
    "def predict_new_photo(photo_name):\n",
    "    # import photo and convert it to greyscale 64*64\n",
    "    x=Image.open(photo_name, 'r')\n",
    "    x=x.convert('L') #makes it greyscale\n",
    "    y=np.asarray(x.getdata(), dtype=np.float64).reshape((x.size[1],x.size[0]))\n",
    "    y=np.asarray(y, dtype=np.uint8) #if values still in range 0-255! \n",
    "    w=Image.fromarray(y,mode='L')\n",
    "    w.save('out.jpg')\n",
    "\n",
    "    # rotate imgae 90 degree\n",
    "    raw_img = Image.open(\"out.jpg\")\n",
    "    img = raw_img.rotate(90)\n",
    "    # img.show()\n",
    "    img.save(\"out.jpg\")\n",
    "\n",
    "    myimg = mpimg.imread('out.jpg')\n",
    "    imgplot = plt.imshow(myimg)\n",
    "    \n",
    "    pred_labels = predict(myimg.reshape(1, -1), parameters=params, activation='tanh')\n",
    "    if int(pred_labels[0][0]) == 1:\n",
    "        plt.text(15,-3,'Human')\n",
    "    else:\n",
    "        plt.text(15,-3,'Not-Human')"
   ]
  },
  {
   "cell_type": "code",
   "execution_count": 143,
   "metadata": {
    "colab": {
     "autoexec": {
      "startup": false,
      "wait_interval": 0
     },
     "base_uri": "https://localhost:8080/",
     "height": 455
    },
    "colab_type": "code",
    "executionInfo": {
     "elapsed": 1956,
     "status": "ok",
     "timestamp": 1528374992576,
     "user": {
      "displayName": "soroush Hashemi",
      "photoUrl": "//lh5.googleusercontent.com/-eRnGp28C2NU/AAAAAAAAAAI/AAAAAAAAAC4/Rp-e87vQOaU/s50-c-k-no/photo.jpg",
      "userId": "110326575601442170965"
     },
     "user_tz": -270
    },
    "id": "IbpzlDuuQKGu",
    "outputId": "a69b2bbd-4c56-4dea-e10b-6c53952d6702"
   },
   "outputs": [
    {
     "data": {
      "image/png": "[encoded data removed]",
      "text/plain": [
       "<matplotlib.figure.Figure at 0x7fddbb23a940>"
      ]
     },
     "metadata": {},
     "output_type": "display_data"
    }
   ],
   "source": [
    "photos = ['myimg.jpg', 'myimg2.jpg', 'myimg3.jpg', 'myimg4.jpg', 'myimg5.jpg', 'myimg6.jpg', 'myimg7.jpg', 'myimg8.jpg', 'myimg9.jpg', 'myimg10.jpg', 'myimg11.jpg', 'myimg12.jpg', 'myimg13.jpg']\n",
    "for i in range(len(photos)):\n",
    "    plt.subplot(4,4, i+1)\n",
    "    predict_new_photo(photos[i])"
   ]
  },
  {
   "cell_type": "markdown",
   "metadata": {
    "colab_type": "text",
    "id": "LGDvIoZnQKHB"
   },
   "source": [
    "### run a package with the same parameters to check it"
   ]
  },
  {
   "cell_type": "code",
   "execution_count": null,
   "metadata": {
    "colab": {
     "autoexec": {
      "startup": false,
      "wait_interval": 0
     }
    },
    "colab_type": "code",
    "id": "g1fjZOZA5AqC"
   },
   "outputs": [],
   "source": [
    "from sklearn.neural_network import MLPClassifier\n",
    "\n",
    "clf = MLPClassifier(hidden_layer_sizes=(200, 500, 200), activation='tanh', solver='sgd', alpha=0, learning_rate_init=0.1, max_iter=10000)\n",
    "clf.fit(train_data, train_label)\n",
    "\n",
    "print('accuracy on train set:', clf.score(train_data, train_label)*100)\n",
    "print('accuracy on test set:', clf.score(test_data, test_label)*100)\n",
    "print('loss:', clf.loss_)"
   ]
  },
  {
   "cell_type": "code",
   "execution_count": null,
   "metadata": {
    "colab": {
     "autoexec": {
      "startup": false,
      "wait_interval": 0
     }
    },
    "colab_type": "code",
    "id": "Q09xchUWQKHT"
   },
   "outputs": [],
   "source": [
    "myimg = mpimg.imread('out.jpg')\n",
    "print(clf.predict(myimg.reshape(1, -1)))"
   ]
  },
  {
   "cell_type": "code",
   "execution_count": null,
   "metadata": {
    "colab": {
     "autoexec": {
      "startup": false,
      "wait_interval": 0
     }
    },
    "colab_type": "code",
    "id": "1zlTvK1bQKHo"
   },
   "outputs": [],
   "source": []
  }
 ],
 "metadata": {
  "accelerator": "GPU",
  "colab": {
   "collapsed_sections": [],
   "default_view": {},
   "name": "faceDetection.ipynb",
   "provenance": [
    {
     "file_id": "1o1u4EaQdlQ71NITAORhkZCc0dwPCS5Sn",
     "timestamp": 1526839703475
    },
    {
     "file_id": "1xOHj7OAibLd9i85-hlDIlyXKUmEjtwdB",
     "timestamp": 1526758920791
    }
   ],
   "version": "0.3.2",
   "views": {}
  },
  "kernelspec": {
   "display_name": "Python 3",
   "language": "python",
   "name": "python3"
  },
  "language_info": {
   "codemirror_mode": {
    "name": "ipython",
    "version": 3
   },
   "file_extension": ".py",
   "mimetype": "text/x-python",
   "name": "python",
   "nbconvert_exporter": "python",
   "pygments_lexer": "ipython3",
   "version": "3.6.5"
  }
 },
 "nbformat": 4,
 "nbformat_minor": 1
}
