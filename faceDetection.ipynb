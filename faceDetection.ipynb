{
  "nbformat": 4,
  "nbformat_minor": 0,
  "metadata": {
    "colab": {
      "name": "faceDetection.ipynb",
      "version": "0.3.2",
      "provenance": [],
      "collapsed_sections": []
    },
    "kernelspec": {
      "display_name": "Python 3",
      "language": "python",
      "name": "python3"
    },
    "accelerator": "GPU"
  },
  "cells": [
    {
      "metadata": {
        "id": "qbu17W8U4ABn",
        "colab_type": "code",
        "colab": {
          "base_uri": "https://localhost:8080/",
          "height": 72
        },
        "outputId": "c73e7739-269c-4e5c-8db5-c4c16937bcef"
      },
      "cell_type": "code",
      "source": [
        "!apt-get install -y -qq software-properties-common python-software-properties module-init-tools\n",
        "\n",
        "!add-apt-repository -y ppa:alessandro-strada/ppa 2>&1 > /dev/null\n",
        "\n",
        "!apt-get update -qq 2>&1 > /dev/null\n",
        "\n",
        "!apt-get -y install -qq google-drive-ocamlfuse fuse\n",
        "\n",
        "from google.colab import auth\n",
        "\n",
        "auth.authenticate_user()\n",
        "\n",
        "\n",
        "from oauth2client.client import GoogleCredentials\n",
        "\n",
        "creds = GoogleCredentials.get_application_default()\n",
        "\n",
        "import getpass\n",
        "\n",
        "!google-drive-ocamlfuse -headless -id={creds.client_id} -secret={creds.client_secret} < /dev/null 2>&1 | grep URL\n",
        "\n",
        "vcode = getpass.getpass()\n",
        "\n",
        "!echo {vcode} | google-drive-ocamlfuse -headless -id={creds.client_id} -secret={creds.client_secret}\n",
        "\n",
        "\n",
        "!mkdir -p drive\n",
        "\n",
        "!google-drive-ocamlfuse drive"
      ],
      "execution_count": 0,
      "outputs": [
        {
          "output_type": "stream",
          "text": [
            "Please, open the following URL in a web browser: https://accounts.google.com/o/oauth2/auth?client_id=32555940559.apps.googleusercontent.com&redirect_uri=urn%3Aietf%3Awg%3Aoauth%3A2.0%3Aoob&scope=https%3A%2F%2Fwww.googleapis.com%2Fauth%2Fdrive&response_type=code&access_type=offline&approval_prompt=force\r\n",
            "··········\n"
          ],
          "name": "stdout"
        }
      ]
    },
    {
      "metadata": {
        "id": "Q9cos-tpQ9Wg",
        "colab_type": "code",
        "colab": {}
      },
      "cell_type": "code",
      "source": [
        "# !ls drive/ColabNotebooks/"
      ],
      "execution_count": 0,
      "outputs": []
    },
    {
      "metadata": {
        "id": "0u7IgbUp4lWZ",
        "colab_type": "code",
        "colab": {}
      },
      "cell_type": "code",
      "source": [
        "import numpy as np\n",
        "import csv\n",
        "from sklearn.model_selection import train_test_split\n",
        "from sklearn.utils import shuffle\n",
        "from scipy.sparse import coo_matrix\n",
        "import matplotlib.pyplot as plt\n",
        "import matplotlib.image as mpimg\n",
        "from PIL import Image"
      ],
      "execution_count": 0,
      "outputs": []
    },
    {
      "metadata": {
        "id": "2-6j5r_z4tp0",
        "colab_type": "code",
        "colab": {}
      },
      "cell_type": "code",
      "source": [
        "def initialize_parameters(n_input, n_hidden): # initialize parameters with tiny random numbers\n",
        "    num_of_layers = len(n_hidden)\n",
        "    parameters = {}\n",
        "    \n",
        "    parameters['w1'] = np.random.randn(n_hidden[0], n_input) * np.sqrt(2/n_input)\n",
        "    parameters['b1'] = np.zeros((n_hidden[0], 1))\n",
        "    \n",
        "    for i in range(1, num_of_layers):\n",
        "        parameters['w'+str(i+1)] = np.random.randn(n_hidden[i], n_hidden[i-1]) * np.sqrt(2/n_hidden[i-1])\n",
        "        parameters['b'+str(i+1)] = np.zeros((n_hidden[i], 1))\n",
        "    \n",
        "    parameters['w'+str(num_of_layers+1)] = np.random.randn(1, n_hidden[num_of_layers-1]) * np.sqrt(2/n_hidden[num_of_layers-1])\n",
        "    parameters['b'+str(num_of_layers+1)] = np.zeros((1, 1))\n",
        "\n",
        "    return parameters"
      ],
      "execution_count": 0,
      "outputs": []
    },
    {
      "metadata": {
        "id": "Jk3V_0ZZQKDv",
        "colab_type": "code",
        "colab": {}
      },
      "cell_type": "code",
      "source": [
        "def relu(z):\n",
        "    return np.maximum(z, 0)\n",
        "\n",
        "def relu_derivative(z):\n",
        "    der = np.zeros(z.shape)\n",
        "    der[z >= 0] = 1\n",
        "    return der"
      ],
      "execution_count": 0,
      "outputs": []
    },
    {
      "metadata": {
        "id": "QW-sZthL40F7",
        "colab_type": "code",
        "colab": {}
      },
      "cell_type": "code",
      "source": [
        "def forward_prop(x, parameters, activation, keep_prob=1.0):\n",
        "    cache = {}\n",
        "    last_layer = len(parameters) // 2\n",
        "    cache['a'+str(0)] = x\n",
        "    \n",
        "    for l in range(1, last_layer+1):\n",
        "        cache['z'+str(l)] = np.dot(parameters['w'+str(l)], cache['a'+str(l-1)]) + parameters['b'+str(l)]\n",
        "        if l == last_layer: \n",
        "            cache['a'+str(last_layer)] = 1/(1 + np.exp(-cache['z'+str(last_layer)]))\n",
        "        elif activation == 'relu':\n",
        "            cache['a'+str(l)] = relu(cache['z'+str(l)])\n",
        "        elif activation == 'sigmoid': \n",
        "            cache['a'+str(l)] = 1/(1 + np.exp(-cache['z'+str(l)]))\n",
        "        elif activation == 'tanh': \n",
        "            cache['a'+str(l)] = np.tanh(cache['z'+str(l)])\n",
        "        \n",
        "        if keep_prob != 1.0 and l != last_layer:\n",
        "            dropout_temp = np.random.randn(cache['a'+str(l)].shape[0], cache['a'+str(l)].shape[1]) < keep_prob\n",
        "            cache['dropout_vec'+str(l)] = dropout_temp \n",
        "            cache['a'+str(l)] = np.multiply(cache['a'+str(l)], dropout_temp) / keep_prob\n",
        "\n",
        "    return cache"
      ],
      "execution_count": 0,
      "outputs": []
    },
    {
      "metadata": {
        "id": "WuubFzLY42uO",
        "colab_type": "code",
        "colab": {}
      },
      "cell_type": "code",
      "source": [
        "def back_prop(x, y, cache, parameters, activation, _lambda, keep_prob):\n",
        "    m = x.shape[1]\n",
        "    gradients = {}\n",
        "    last_layer = len(parameters) // 2\n",
        "\n",
        "    gradients['dz'+str(last_layer)] = cache['a'+str(last_layer)] - y.T\n",
        "    gradients['dw'+str(last_layer)] = 1/m * np.dot(gradients['dz'+str(last_layer)], cache['a'+str(last_layer-1)].T) + _lambda/m * parameters['w'+str(last_layer)]\n",
        "    gradients['db'+str(last_layer)] = 1/m * np.sum(gradients['dz'+str(last_layer)], axis=1, keepdims=True)\n",
        "        \n",
        "    for i in reversed(range(1, last_layer)):\n",
        "        dA = np.dot(parameters['w'+str(i+1)].T, gradients['dz'+str(i+1)])\n",
        "        if keep_prob != 1.0 and i != last_layer:\n",
        "            dA *= cache['dropout_vec'+str(i)]\n",
        "            dA /= keep_prob\n",
        "            \n",
        "        if activation == 'sigmoid': \n",
        "            sigmoid = 1/(1 + np.exp(-cache['z'+str(i)]))\n",
        "            gradients['dz'+str(i)] = dA * (sigmoid * (1 - sigmoid))\n",
        "        elif activation == 'relu':\n",
        "            gradients['dz'+str(i)] = dA * relu_derivative(cache['z'+str(i)])\n",
        "        elif activation == 'tanh': \n",
        "            gradients['dz'+str(i)] = dA * (1 - np.power(np.tanh(cache['z'+str(i)]), 2))\n",
        "     \n",
        "        gradients['dw'+str(i)] = 1/m * np.dot(gradients['dz'+str(i)], cache['a'+str(i-1)].T) + _lambda/m * parameters['w'+str(i)]\n",
        "        gradients['db'+str(i)] = 1/m * np.sum(gradients['dz'+str(i)], axis=1, keepdims=True)\n",
        "    \n",
        "    return gradients"
      ],
      "execution_count": 0,
      "outputs": []
    },
    {
      "metadata": {
        "id": "1ZxmAytDQKEF",
        "colab_type": "code",
        "colab": {}
      },
      "cell_type": "code",
      "source": [
        "def cost_function(m, labels, y_hat, params, lambd): # regularized\n",
        "    last_layer = len(params) // 2\n",
        "    return -1/m * (np.sum(labels * np.log(y_hat)) + np.sum((1-labels) * np.log(1 - y_hat))) + lambd/(2*m) * np.sum([\n",
        "            np.power(np.linalg.norm(params['w'+str(i)]), 2) for i in range(1, last_layer+1)])"
      ],
      "execution_count": 0,
      "outputs": []
    },
    {
      "metadata": {
        "id": "nav0_CuqySGQ",
        "colab_type": "code",
        "colab": {}
      },
      "cell_type": "code",
      "source": [
        "def save_weights(parameters):\n",
        "    for i in range(1, (len(parameters)//2)+1):\n",
        "        np.save(\"w\"+str(i), parameters['w'+str(i)])\n",
        "        np.save(\"b\"+str(i), parameters['b'+str(i)])"
      ],
      "execution_count": 0,
      "outputs": []
    },
    {
      "metadata": {
        "id": "DXavV7dnzMlI",
        "colab_type": "code",
        "colab": {}
      },
      "cell_type": "code",
      "source": [
        "def load_weights(num):\n",
        "    parameters = {}\n",
        "    for i in range(1, num+1):\n",
        "        parameters[\"w\"+str(i)] = np.load(\"w\"+str(i)+\".npy\")\n",
        "        parameters[\"b\"+str(i)] = np.load(\"b\"+str(i)+\".npy\")"
      ],
      "execution_count": 0,
      "outputs": []
    },
    {
      "metadata": {
        "id": "PSEIPO6845Zr",
        "colab_type": "code",
        "colab": {}
      },
      "cell_type": "code",
      "source": [
        "def multi_Layer_NN(samples, labels, n_hidden, num_iterations, batch_size=None, load_last_weights=0, activation=\"tanh\", learning_rate=0.01, _lambda=0, keep_prob_dropout=1.0, print_cost=False):\n",
        "    m = samples.shape[1]\n",
        "    if not batch_size:\n",
        "       batch_size = m\n",
        "    \n",
        "    if load_last_weights == 0:\n",
        "       params = initialize_parameters(samples.shape[0], n_hidden)\n",
        "    else:\n",
        "       params = load_weights(load_last_weights)       \n",
        "    \n",
        "    cost_history = []\n",
        "    last_layer = len(params) // 2\n",
        "    \n",
        "    for i in range(1, num_iterations+1):\n",
        "        cost = []\n",
        "        \n",
        "        for t in range(int(m/batch_size)):\n",
        "            \n",
        "            cache = forward_prop(samples[:, int(t*batch_size):int((t+1)*batch_size)], params, activation, keep_prob_dropout)\n",
        "            \n",
        "            gradients = back_prop(samples[:, int(t*batch_size):int((t+1)*batch_size)],\n",
        "                                  labels[int(t*batch_size):int((t+1)*batch_size)], \n",
        "                                  cache, \n",
        "                                  params, \n",
        "                                  activation, \n",
        "                                  _lambda, \n",
        "                                  keep_prob_dropout)\n",
        "            \n",
        "            for j in range(1, last_layer+1):\n",
        "                params['w'+str(j)] -= learning_rate * gradients['dw'+str(j)]\n",
        "                params['b'+str(j)] -= learning_rate * gradients['db'+str(j)]\n",
        "\n",
        "            cost.append(cost_function(int(batch_size), labels[int(t*batch_size):int((t+1)*batch_size)], cache['a'+str(last_layer)].T, params, _lambda))   \n",
        "             \n",
        "        if print_cost: \n",
        "#             cost = cost_function(m, labels, cache['a'+str(last_layer)].T, params, _lambda)\n",
        "            print('cost after epoch {}: {}'.format(int(i), np.sum(cost)))\n",
        "            cost_history.append(np.sum(cost))\n",
        "              \n",
        "    return {'parameters':params, \n",
        "            'cache': cache,\n",
        "            'cost_history':cost_history\n",
        "           }\n"
      ],
      "execution_count": 0,
      "outputs": []
    },
    {
      "metadata": {
        "id": "my_b07jt49FW",
        "colab_type": "code",
        "colab": {}
      },
      "cell_type": "code",
      "source": [
        "def predict(x, parameters, activation):\n",
        "    last_layer = len(parameters) // 2\n",
        "    cache = forward_prop(x.T, parameters, activation)\n",
        "    y_hat = cache['a'+str(last_layer)]\n",
        "    y_hat[y_hat >= 0.5] = 1\n",
        "    y_hat[y_hat < 0.5] = 0\n",
        "\n",
        "    return y_hat.T"
      ],
      "execution_count": 0,
      "outputs": []
    },
    {
      "metadata": {
        "id": "AfmbWYkWQKEv",
        "colab_type": "text"
      },
      "cell_type": "markdown",
      "source": [
        "## load dataset section"
      ]
    },
    {
      "metadata": {
        "id": "Sa79EdngQKEz",
        "colab_type": "code",
        "colab": {}
      },
      "cell_type": "code",
      "source": [
        "import scipy.io\n",
        "samples = scipy.io.loadmat('drive/ColabNotebooks/olivettifaces.mat')\n",
        "samples = samples['faces'].T\n",
        "labels = np.ones((samples.shape[0], 1))\n",
        "artificialZeroData = np.random.randint(0, 256, (samples.shape[0], samples.shape[1]))\n",
        "artificialZeroLabel = np.zeros((artificialZeroData.shape[0], 1))\n",
        "samples = np.vstack((samples, artificialZeroData))\n",
        "labels = np.vstack((labels, artificialZeroLabel))\n",
        "\n",
        "_mean = np.mean(samples, axis=1).reshape(-1, 1)\n",
        "variance = (np.std(samples, axis=1)**2).reshape(-1, 1)\n",
        "samples = (samples - _mean)/variance\n",
        "\n",
        "samples_sparse = coo_matrix(samples)\n",
        "samples, samples_sparse, labels = shuffle(samples, samples_sparse, labels)\n",
        "\n",
        "train_data, test_data, train_label, test_label = train_test_split(samples, labels, test_size=0.30, random_state=4)"
      ],
      "execution_count": 0,
      "outputs": []
    },
    {
      "metadata": {
        "id": "pxDTquG5QKE8",
        "colab_type": "code",
        "colab": {
          "base_uri": "https://localhost:8080/",
          "height": 34
        },
        "outputId": "5eda8dab-6003-422f-bd3d-5c406e6c3ab0"
      },
      "cell_type": "code",
      "source": [
        "print(samples.shape, labels.shape)"
      ],
      "execution_count": 14,
      "outputs": [
        {
          "output_type": "stream",
          "text": [
            "(800, 4096) (800, 1)\n"
          ],
          "name": "stdout"
        }
      ]
    },
    {
      "metadata": {
        "id": "Z9IH-_NnQKFP",
        "colab_type": "text"
      },
      "cell_type": "markdown",
      "source": [
        "## train section"
      ]
    },
    {
      "metadata": {
        "id": "ycSNfwRy4-3_",
        "colab_type": "code",
        "colab": {
          "base_uri": "https://localhost:8080/",
          "height": 8787
        },
        "outputId": "f717de82-f17e-4f08-c5e9-943486880417"
      },
      "cell_type": "code",
      "source": [
        "import time\n",
        "\n",
        "tic = time.time()\n",
        "activation_function = 'relu'\n",
        "model = multi_Layer_NN(train_data.T,\n",
        "                         train_label,\n",
        "                         activation=activation_function,\n",
        "                         n_hidden=[100, 100, 100],\n",
        "                         num_iterations=500,\n",
        "                         batch_size=56,\n",
        "                         learning_rate=0.1,\n",
        "                         _lambda = 0.01,\n",
        "                         keep_prob_dropout= .7,\n",
        "                         print_cost=True)\n",
        "\n",
        "print(\"Train phase time:\", time.time()-tic)"
      ],
      "execution_count": 31,
      "outputs": [
        {
          "output_type": "stream",
          "text": [
            "cost after epoch 1: 7.307424250916565\n",
            "cost after epoch 2: 6.355181451487798\n",
            "cost after epoch 3: 4.676904781211211\n",
            "cost after epoch 4: 2.888257715749046\n",
            "cost after epoch 5: 1.8268688098584418\n",
            "cost after epoch 6: 1.3179262320777785\n",
            "cost after epoch 7: 1.032378978139278\n",
            "cost after epoch 8: 0.9461976388768101\n",
            "cost after epoch 9: 0.8572668043480234\n",
            "cost after epoch 10: 0.8026568636469187\n",
            "cost after epoch 11: 0.7439905831904164\n",
            "cost after epoch 12: 0.7031325212563697\n",
            "cost after epoch 13: 0.6985992889166801\n",
            "cost after epoch 14: 0.6784030998375057\n",
            "cost after epoch 15: 0.6506198346578004\n",
            "cost after epoch 16: 0.6531900918190083\n",
            "cost after epoch 17: 0.6255250905919109\n",
            "cost after epoch 18: 0.6606274824656573\n",
            "cost after epoch 19: 0.6174683710928954\n",
            "cost after epoch 20: 0.6038332825612724\n",
            "cost after epoch 21: 0.6192084974938673\n",
            "cost after epoch 22: 0.597322977503977\n",
            "cost after epoch 23: 0.5980060298421618\n",
            "cost after epoch 24: 0.6082944288558184\n",
            "cost after epoch 25: 0.6176248455610657\n",
            "cost after epoch 26: 0.574510559410493\n",
            "cost after epoch 27: 0.5810987338851159\n",
            "cost after epoch 28: 0.5904880191842019\n",
            "cost after epoch 29: 0.572547976640415\n",
            "cost after epoch 30: 0.5743036164293962\n",
            "cost after epoch 31: 0.5766743400365646\n",
            "cost after epoch 32: 0.5753026043799613\n",
            "cost after epoch 33: 0.5696038024946318\n",
            "cost after epoch 34: 0.5759492404752021\n",
            "cost after epoch 35: 0.5717267932523361\n",
            "cost after epoch 36: 0.5687941360933707\n",
            "cost after epoch 37: 0.5783901147553858\n",
            "cost after epoch 38: 0.5687627760696042\n",
            "cost after epoch 39: 0.5702623417145909\n",
            "cost after epoch 40: 0.574009703210753\n",
            "cost after epoch 41: 0.5634225093380456\n",
            "cost after epoch 42: 0.5715978827171082\n",
            "cost after epoch 43: 0.5708654631294541\n",
            "cost after epoch 44: 0.5923391573499837\n",
            "cost after epoch 45: 0.567024775498933\n",
            "cost after epoch 46: 0.5590282862707675\n",
            "cost after epoch 47: 0.560238520743714\n",
            "cost after epoch 48: 0.568066513583633\n",
            "cost after epoch 49: 0.5628424984741904\n",
            "cost after epoch 50: 0.5534161441085592\n",
            "cost after epoch 51: 0.5552581774876535\n",
            "cost after epoch 52: 0.5557308588584414\n",
            "cost after epoch 53: 0.5589092517869308\n",
            "cost after epoch 54: 0.565233623722768\n",
            "cost after epoch 55: 0.5547144655837751\n",
            "cost after epoch 56: 0.5561979623977849\n",
            "cost after epoch 57: 0.5558484065383432\n",
            "cost after epoch 58: 0.5762890213921859\n",
            "cost after epoch 59: 0.5570029186892049\n",
            "cost after epoch 60: 0.5565641834140038\n",
            "cost after epoch 61: 0.5542944642907671\n",
            "cost after epoch 62: 0.5528497821841513\n",
            "cost after epoch 63: 0.5549489098696059\n",
            "cost after epoch 64: 0.5510938648936827\n",
            "cost after epoch 65: 0.5558084803849999\n",
            "cost after epoch 66: 0.5491855148580193\n",
            "cost after epoch 67: 0.5508800163618205\n",
            "cost after epoch 68: 0.5458376467423581\n",
            "cost after epoch 69: 0.5473874106522723\n",
            "cost after epoch 70: 0.5464351571790821\n",
            "cost after epoch 71: 0.5464257381071884\n",
            "cost after epoch 72: 0.5467517425136695\n",
            "cost after epoch 73: 0.5508256585840828\n",
            "cost after epoch 74: 0.5491533434991199\n",
            "cost after epoch 75: 0.5467689750297264\n",
            "cost after epoch 76: 0.545457143333291\n",
            "cost after epoch 77: 0.5541938028158022\n",
            "cost after epoch 78: 0.5496807010539043\n",
            "cost after epoch 79: 0.5452059730851551\n",
            "cost after epoch 80: 0.5430059402695498\n",
            "cost after epoch 81: 0.5469946360742601\n",
            "cost after epoch 82: 0.5447136534182078\n",
            "cost after epoch 83: 0.5421943063547413\n",
            "cost after epoch 84: 0.5520914913754613\n",
            "cost after epoch 85: 0.5454821972944579\n",
            "cost after epoch 86: 0.541443843599625\n",
            "cost after epoch 87: 0.544440069036166\n",
            "cost after epoch 88: 0.5423422654870973\n",
            "cost after epoch 89: 0.5422855695207601\n",
            "cost after epoch 90: 0.5445503453781463\n",
            "cost after epoch 91: 0.5434710241797224\n",
            "cost after epoch 92: 0.5411008765640956\n",
            "cost after epoch 93: 0.5449486185021027\n",
            "cost after epoch 94: 0.5444611604895364\n",
            "cost after epoch 95: 0.5399962783086613\n",
            "cost after epoch 96: 0.5399876401448053\n",
            "cost after epoch 97: 0.5413207501230547\n",
            "cost after epoch 98: 0.5422977630820562\n",
            "cost after epoch 99: 0.5420289937057501\n",
            "cost after epoch 100: 0.5400178360596941\n"
          ],
          "name": "stdout"
        },
        {
          "output_type": "stream",
          "text": [
            "cost after epoch 101: 0.5436841046049384\n",
            "cost after epoch 102: 0.5470266826408255\n",
            "cost after epoch 103: 0.5387455232548383\n",
            "cost after epoch 104: 0.5427207605481117\n",
            "cost after epoch 105: 0.536729922702664\n",
            "cost after epoch 106: 0.5421210323204698\n",
            "cost after epoch 107: 0.5405686497852882\n",
            "cost after epoch 108: 0.5371217870438162\n",
            "cost after epoch 109: 0.5380984757800122\n",
            "cost after epoch 110: 0.5410860438487379\n",
            "cost after epoch 111: 0.5375680171372078\n",
            "cost after epoch 112: 0.5375355994508193\n",
            "cost after epoch 113: 0.5373883078926536\n",
            "cost after epoch 114: 0.5356253120271299\n",
            "cost after epoch 115: 0.5358405706992668\n",
            "cost after epoch 116: 0.5382262493342036\n",
            "cost after epoch 117: 0.5441485219811201\n",
            "cost after epoch 118: 0.5348524804027467\n",
            "cost after epoch 119: 0.5440526589161978\n",
            "cost after epoch 120: 0.5362474275351319\n",
            "cost after epoch 121: 0.5345842468755208\n",
            "cost after epoch 122: 0.5354162519650348\n",
            "cost after epoch 123: 0.5342796574728991\n",
            "cost after epoch 124: 0.5337034216297843\n",
            "cost after epoch 125: 0.5365458319724736\n",
            "cost after epoch 126: 0.5349095743605503\n",
            "cost after epoch 127: 0.5335602496181355\n",
            "cost after epoch 128: 0.5334873013067503\n",
            "cost after epoch 129: 0.5322899112614531\n",
            "cost after epoch 130: 0.5388497654556357\n",
            "cost after epoch 131: 0.5339396951557949\n",
            "cost after epoch 132: 0.5335465566276589\n",
            "cost after epoch 133: 0.5317128012595642\n",
            "cost after epoch 134: 0.5312284063783529\n",
            "cost after epoch 135: 0.5339234314504805\n",
            "cost after epoch 136: 0.5323990580756652\n",
            "cost after epoch 137: 0.5318271204984243\n",
            "cost after epoch 138: 0.5331466563015285\n",
            "cost after epoch 139: 0.5345879578978331\n",
            "cost after epoch 140: 0.5322820482844195\n",
            "cost after epoch 141: 0.5325060846966307\n",
            "cost after epoch 142: 0.5324890961032328\n",
            "cost after epoch 143: 0.5299243292482426\n"
          ],
          "name": "stdout"
        },
        {
          "output_type": "stream",
          "text": [
            "/usr/local/lib/python3.6/dist-packages/ipykernel_launcher.py:3: RuntimeWarning: divide by zero encountered in log\n",
            "  This is separate from the ipykernel package so we can avoid doing imports until\n",
            "/usr/local/lib/python3.6/dist-packages/ipykernel_launcher.py:3: RuntimeWarning: invalid value encountered in multiply\n",
            "  This is separate from the ipykernel package so we can avoid doing imports until\n"
          ],
          "name": "stderr"
        },
        {
          "output_type": "stream",
          "text": [
            "cost after epoch 144: nan\n",
            "cost after epoch 145: 0.5301598797136158\n",
            "cost after epoch 146: 0.5361264674837708\n",
            "cost after epoch 147: 0.5386773298248043\n",
            "cost after epoch 148: 0.5374719015444882\n",
            "cost after epoch 149: 0.5309864700770889\n",
            "cost after epoch 150: 0.5278984683400769\n",
            "cost after epoch 151: 0.5282081809266597\n",
            "cost after epoch 152: nan\n",
            "cost after epoch 153: 0.528980664639933\n",
            "cost after epoch 154: 0.5283728104175149\n",
            "cost after epoch 155: 0.5331261793074238\n",
            "cost after epoch 156: 0.5277864661853451\n",
            "cost after epoch 157: 0.526792892468901\n",
            "cost after epoch 158: 0.5275028784962145\n",
            "cost after epoch 159: 0.5305525198347394\n",
            "cost after epoch 160: 0.5280462376530002\n",
            "cost after epoch 161: 0.5269104254495263\n",
            "cost after epoch 162: 0.5277264429967213\n",
            "cost after epoch 163: 0.5259030669677012\n",
            "cost after epoch 164: 0.5289664232557049\n",
            "cost after epoch 165: 0.543649406893338\n",
            "cost after epoch 166: 0.5261906715804071\n",
            "cost after epoch 167: 0.5258807802158959\n",
            "cost after epoch 168: 0.5259515174450462\n",
            "cost after epoch 169: 0.5249068697077092\n",
            "cost after epoch 170: 0.5268002615327606\n",
            "cost after epoch 171: 0.5277958876584818\n",
            "cost after epoch 172: 0.5266503840975737\n",
            "cost after epoch 173: 0.526174699546119\n",
            "cost after epoch 174: 0.5270931156871311\n",
            "cost after epoch 175: 0.5289898169134277\n",
            "cost after epoch 176: 0.525433443927863\n",
            "cost after epoch 177: 0.5239418249315742\n",
            "cost after epoch 178: 0.5241667903473592\n",
            "cost after epoch 179: 0.5228443957102428\n",
            "cost after epoch 180: 0.5229078641376252\n",
            "cost after epoch 181: 0.5218235834207523\n",
            "cost after epoch 182: 0.5232882506565701\n",
            "cost after epoch 183: 0.5232779949809778\n",
            "cost after epoch 184: 0.5226718847422851\n",
            "cost after epoch 185: nan\n",
            "cost after epoch 186: 0.5222186032178145\n",
            "cost after epoch 187: 0.5231541050971293\n",
            "cost after epoch 188: 0.5237124126108319\n",
            "cost after epoch 189: 0.5218238225055493\n",
            "cost after epoch 190: 0.5224818994937822\n",
            "cost after epoch 191: 0.5199945400927994\n",
            "cost after epoch 192: 0.5211234241599442\n",
            "cost after epoch 193: 0.5211359386773473\n",
            "cost after epoch 194: nan\n",
            "cost after epoch 195: 0.5211994526262863\n",
            "cost after epoch 196: 0.5196970593818946\n",
            "cost after epoch 197: 0.5218619180177769\n",
            "cost after epoch 198: 0.5222412122459251\n",
            "cost after epoch 199: 0.5246760546751758\n",
            "cost after epoch 200: 0.5214843967108945\n",
            "cost after epoch 201: 0.5220612921671943\n",
            "cost after epoch 202: 0.5182430426816995\n",
            "cost after epoch 203: 0.5208338085230306\n",
            "cost after epoch 204: 0.5185461707110233\n",
            "cost after epoch 205: 0.5176555440600086\n",
            "cost after epoch 206: 0.5176128987544826\n",
            "cost after epoch 207: 0.5256570037758926\n",
            "cost after epoch 208: 0.5174005841572151\n",
            "cost after epoch 209: 0.5199931717330246\n",
            "cost after epoch 210: 0.5162159198161531\n",
            "cost after epoch 211: 0.5171906725878351\n",
            "cost after epoch 212: 0.5162754287229131\n",
            "cost after epoch 213: 0.5162776936249077\n",
            "cost after epoch 214: 0.5167061900345659\n",
            "cost after epoch 215: 0.5156288680979059\n",
            "cost after epoch 216: 0.5172376030414294\n",
            "cost after epoch 217: 0.5149314202478373\n",
            "cost after epoch 218: 0.514835805125675\n",
            "cost after epoch 219: 0.5154256322222097\n",
            "cost after epoch 220: 0.5152560668558178\n",
            "cost after epoch 221: 0.5177263634010887\n",
            "cost after epoch 222: 0.5159666911963047\n",
            "cost after epoch 223: 0.5181989155262343\n",
            "cost after epoch 224: nan\n",
            "cost after epoch 225: 0.5167893875146253\n",
            "cost after epoch 226: 0.5137181370374416\n",
            "cost after epoch 227: 0.5203322321647184\n",
            "cost after epoch 228: 0.5128161750909523\n",
            "cost after epoch 229: 0.514389785429207\n",
            "cost after epoch 230: 0.5142242117224838\n",
            "cost after epoch 231: 0.5133401824455402\n",
            "cost after epoch 232: 0.5149982412671412\n",
            "cost after epoch 233: 0.5140537872244856\n",
            "cost after epoch 234: 0.5130401681110806\n",
            "cost after epoch 235: 0.5122846060778896\n",
            "cost after epoch 236: 0.5126718526621439\n",
            "cost after epoch 237: 0.5141421374914052\n",
            "cost after epoch 238: 0.512815595886992\n",
            "cost after epoch 239: 0.5126903302971734\n",
            "cost after epoch 240: 0.5117414293197237\n",
            "cost after epoch 241: nan\n",
            "cost after epoch 242: 0.5106225708212127\n",
            "cost after epoch 243: nan\n",
            "cost after epoch 244: 0.5200114527397491\n",
            "cost after epoch 245: 0.5146284017142\n",
            "cost after epoch 246: 0.5107098947794666\n",
            "cost after epoch 247: 0.5119113472951012\n",
            "cost after epoch 248: 0.5101416048055145\n",
            "cost after epoch 249: 0.5110698608868702\n",
            "cost after epoch 250: 0.509880267201625\n",
            "cost after epoch 251: 0.5102445918677667\n",
            "cost after epoch 252: 0.5094182361250822\n",
            "cost after epoch 253: 0.5102832999159306\n",
            "cost after epoch 254: 0.5083598767007245\n",
            "cost after epoch 255: 0.5085206580788824\n",
            "cost after epoch 256: 0.50941393243023\n",
            "cost after epoch 257: nan\n",
            "cost after epoch 258: 0.5098851236647935\n"
          ],
          "name": "stdout"
        },
        {
          "output_type": "stream",
          "text": [
            "cost after epoch 259: 0.5079887510024115\n",
            "cost after epoch 260: 0.5090021172670195\n",
            "cost after epoch 261: 0.5082302788761718\n",
            "cost after epoch 262: 0.5075693241675442\n",
            "cost after epoch 263: nan\n",
            "cost after epoch 264: 0.507911572595619\n",
            "cost after epoch 265: 0.5139100435576092\n",
            "cost after epoch 266: 0.5064942612990279\n",
            "cost after epoch 267: 0.506348465767306\n",
            "cost after epoch 268: 0.5064719998785291\n",
            "cost after epoch 269: nan\n",
            "cost after epoch 270: nan\n",
            "cost after epoch 271: 0.507196373787297\n",
            "cost after epoch 272: 0.5058626817903275\n",
            "cost after epoch 273: 0.5070474783602216\n",
            "cost after epoch 274: 0.5060415632111009\n",
            "cost after epoch 275: 0.5056372951390983\n",
            "cost after epoch 276: 0.5049761078026829\n",
            "cost after epoch 277: nan\n",
            "cost after epoch 278: 0.510282739856464\n",
            "cost after epoch 279: 0.5039365082639207\n",
            "cost after epoch 280: 0.504417980035821\n",
            "cost after epoch 281: 0.5046735056661515\n",
            "cost after epoch 282: 0.5041340378526407\n",
            "cost after epoch 283: 0.5051459755083973\n",
            "cost after epoch 284: 0.5031099815831263\n",
            "cost after epoch 285: 0.5025193226724111\n",
            "cost after epoch 286: nan\n",
            "cost after epoch 287: 0.5023851312118376\n",
            "cost after epoch 288: 0.5031335778669099\n",
            "cost after epoch 289: nan\n",
            "cost after epoch 290: nan\n",
            "cost after epoch 291: 0.5029764111718221\n",
            "cost after epoch 292: 0.5040334455398869\n",
            "cost after epoch 293: 0.5025771575443561\n",
            "cost after epoch 294: 0.5024251862974194\n",
            "cost after epoch 295: 0.5046516606049438\n",
            "cost after epoch 296: 0.5018105356048754\n",
            "cost after epoch 297: 0.5011988438439698\n",
            "cost after epoch 298: 0.5019275715155533\n",
            "cost after epoch 299: 0.5009806165323148\n",
            "cost after epoch 300: 0.502082784813717\n",
            "cost after epoch 301: 0.5022687149469752\n",
            "cost after epoch 302: 0.5005370243974533\n",
            "cost after epoch 303: 0.5002819713072878\n",
            "cost after epoch 304: 0.5018815552899174\n",
            "cost after epoch 305: nan\n",
            "cost after epoch 306: 0.5002730586694981\n",
            "cost after epoch 307: 0.5008281705159401\n",
            "cost after epoch 308: nan\n",
            "cost after epoch 309: 0.49908164707146235\n",
            "cost after epoch 310: 0.5012483954321351\n",
            "cost after epoch 311: 0.5001575932787964\n",
            "cost after epoch 312: 0.4986871412379668\n",
            "cost after epoch 313: 0.5076512332873415\n",
            "cost after epoch 314: 0.4997240961839364\n",
            "cost after epoch 315: 0.4982075038421874\n",
            "cost after epoch 316: 0.49862483484874126\n",
            "cost after epoch 317: nan\n",
            "cost after epoch 318: 0.49720897358100313\n",
            "cost after epoch 319: 0.498296418232729\n",
            "cost after epoch 320: 0.49934529065169625\n",
            "cost after epoch 321: 0.49679429524518437\n",
            "cost after epoch 322: 0.4984792225746153\n",
            "cost after epoch 323: 0.49685669300873186\n",
            "cost after epoch 324: 0.49628310446014007\n",
            "cost after epoch 325: nan\n",
            "cost after epoch 326: 0.4960712349234695\n",
            "cost after epoch 327: 0.49667594765041584\n",
            "cost after epoch 328: 0.49601781315543425\n",
            "cost after epoch 329: 0.4955436240211931\n",
            "cost after epoch 330: 0.4950651621060559\n",
            "cost after epoch 331: 0.49638317045488056\n",
            "cost after epoch 332: 0.4954192676418881\n",
            "cost after epoch 333: 0.49602035659797594\n",
            "cost after epoch 334: 0.4954246700833953\n",
            "cost after epoch 335: nan\n",
            "cost after epoch 336: 0.496127071004277\n",
            "cost after epoch 337: 0.4949201027973844\n",
            "cost after epoch 338: 0.4953669971952647\n",
            "cost after epoch 339: 0.4947993748248203\n",
            "cost after epoch 340: 0.49520271283737183\n",
            "cost after epoch 341: nan\n",
            "cost after epoch 342: 0.493039067150961\n",
            "cost after epoch 343: 0.49298907816307136\n",
            "cost after epoch 344: nan\n",
            "cost after epoch 345: 0.49371104691382134\n",
            "cost after epoch 346: nan\n",
            "cost after epoch 347: 0.4932044744800877\n",
            "cost after epoch 348: 0.4931699971699922\n",
            "cost after epoch 349: 0.49367620286676295\n",
            "cost after epoch 350: 0.4926611588107821\n",
            "cost after epoch 351: 0.4915643704995511\n",
            "cost after epoch 352: 0.492434844750421\n",
            "cost after epoch 353: 0.49263581921836797\n",
            "cost after epoch 354: 0.490904907709284\n",
            "cost after epoch 355: 0.49130236402112787\n",
            "cost after epoch 356: 0.4910897889160042\n",
            "cost after epoch 357: 0.4911173117560457\n",
            "cost after epoch 358: 0.49151290606525966\n",
            "cost after epoch 359: nan\n",
            "cost after epoch 360: nan\n",
            "cost after epoch 361: 0.4906696991987396\n",
            "cost after epoch 362: 0.4899973745313292\n",
            "cost after epoch 363: 0.4906148192613781\n",
            "cost after epoch 364: 0.4895189081539467\n",
            "cost after epoch 365: 0.4894459138252362\n",
            "cost after epoch 366: 0.49039435448175317\n",
            "cost after epoch 367: 0.4890380891049644\n",
            "cost after epoch 368: 0.48921425338779173\n",
            "cost after epoch 369: 0.48924896268874096\n",
            "cost after epoch 370: 0.4892731183452775\n",
            "cost after epoch 371: 0.48843931918537775\n",
            "cost after epoch 372: 0.49046061978020306\n",
            "cost after epoch 373: 0.4893624215805306\n",
            "cost after epoch 374: 0.48833879248615\n",
            "cost after epoch 375: 0.4875591156106383\n",
            "cost after epoch 376: 0.4889153057123161\n",
            "cost after epoch 377: 0.48814622672022384\n"
          ],
          "name": "stdout"
        },
        {
          "output_type": "stream",
          "text": [
            "cost after epoch 378: 0.4882222336600047\n",
            "cost after epoch 379: 0.4872355939621533\n",
            "cost after epoch 380: 0.4873751339706383\n",
            "cost after epoch 381: 0.48740924983441514\n",
            "cost after epoch 382: nan\n",
            "cost after epoch 383: 0.4863378804774282\n",
            "cost after epoch 384: 0.48755996095702403\n",
            "cost after epoch 385: 0.4861576137026406\n",
            "cost after epoch 386: nan\n",
            "cost after epoch 387: 0.4868668577356061\n",
            "cost after epoch 388: 0.48621235135338414\n",
            "cost after epoch 389: 0.4899314484100218\n",
            "cost after epoch 390: 0.4907270497047098\n",
            "cost after epoch 391: 0.48544351443201483\n",
            "cost after epoch 392: nan\n",
            "cost after epoch 393: 0.4847989727868435\n",
            "cost after epoch 394: 0.48543737606085746\n",
            "cost after epoch 395: 0.48446257911992846\n",
            "cost after epoch 396: 0.4857008088591662\n",
            "cost after epoch 397: 0.48399910436876975\n",
            "cost after epoch 398: 0.48419092512658624\n",
            "cost after epoch 399: 0.4881356143425998\n",
            "cost after epoch 400: 0.4837479462081826\n",
            "cost after epoch 401: 0.4829776118765255\n",
            "cost after epoch 402: 0.4831840478140579\n",
            "cost after epoch 403: 0.48356946120143135\n",
            "cost after epoch 404: nan\n",
            "cost after epoch 405: 0.4836570152986017\n",
            "cost after epoch 406: 0.4838609473683599\n",
            "cost after epoch 407: nan\n",
            "cost after epoch 408: 0.4822125656988542\n",
            "cost after epoch 409: 0.48286925778644096\n",
            "cost after epoch 410: 0.48318507345627487\n",
            "cost after epoch 411: 0.4823195533491737\n",
            "cost after epoch 412: 0.48275374186899167\n",
            "cost after epoch 413: 0.4820817104106645\n",
            "cost after epoch 414: nan\n",
            "cost after epoch 415: 0.48117895874601163\n",
            "cost after epoch 416: 0.4824103699710581\n",
            "cost after epoch 417: 0.4808644932660707\n",
            "cost after epoch 418: 0.4804207096639579\n",
            "cost after epoch 419: 0.4805008577623849\n",
            "cost after epoch 420: 0.48132143202224387\n",
            "cost after epoch 421: nan\n",
            "cost after epoch 422: 0.480364547127366\n",
            "cost after epoch 423: 0.47958641862345525\n",
            "cost after epoch 424: 0.4797757940551923\n",
            "cost after epoch 425: 0.47974951630289425\n",
            "cost after epoch 426: 0.47967110460049356\n",
            "cost after epoch 427: 0.4790719262891147\n",
            "cost after epoch 428: 0.4816601606597857\n",
            "cost after epoch 429: 0.4789946053308449\n",
            "cost after epoch 430: 0.47958941744535616\n",
            "cost after epoch 431: 0.47871448515363935\n",
            "cost after epoch 432: 0.4784587815320377\n",
            "cost after epoch 433: 0.4799556967494308\n",
            "cost after epoch 434: 0.4781760603165462\n",
            "cost after epoch 435: 0.4792931528246698\n",
            "cost after epoch 436: 0.47864210780574656\n",
            "cost after epoch 437: 0.477437196968453\n",
            "cost after epoch 438: 0.4791019915252027\n",
            "cost after epoch 439: 0.47875337176964816\n",
            "cost after epoch 440: 0.478460195102862\n",
            "cost after epoch 441: nan\n",
            "cost after epoch 442: 0.47667078163847654\n",
            "cost after epoch 443: 0.4780731822923627\n",
            "cost after epoch 444: 0.4769026773683827\n",
            "cost after epoch 445: nan\n",
            "cost after epoch 446: 0.47694372060941226\n",
            "cost after epoch 447: 0.47590214581359275\n",
            "cost after epoch 448: 0.47569909795772247\n",
            "cost after epoch 449: 0.47913325729412126\n",
            "cost after epoch 450: 0.47574498243353325\n",
            "cost after epoch 451: 0.47543423550235153\n",
            "cost after epoch 452: 0.4756203984882001\n",
            "cost after epoch 453: 0.4746877630885747\n",
            "cost after epoch 454: nan\n",
            "cost after epoch 455: 0.4777813850350559\n",
            "cost after epoch 456: 0.47505912800452493\n",
            "cost after epoch 457: 0.47540049829655945\n",
            "cost after epoch 458: nan\n",
            "cost after epoch 459: 0.4754378160611682\n",
            "cost after epoch 460: 0.47612294213980033\n",
            "cost after epoch 461: 0.4739130351503927\n",
            "cost after epoch 462: 0.47393490601872246\n",
            "cost after epoch 463: 0.4754344888565789\n",
            "cost after epoch 464: 0.4734664116671512\n",
            "cost after epoch 465: nan\n",
            "cost after epoch 466: 0.4729985386027694\n",
            "cost after epoch 467: 0.4732588759513413\n",
            "cost after epoch 468: 0.47309833987954375\n",
            "cost after epoch 469: 0.47303064853760896\n",
            "cost after epoch 470: 0.47307489955785276\n",
            "cost after epoch 471: 0.4723502885112626\n",
            "cost after epoch 472: 0.4720491619457406\n",
            "cost after epoch 473: 0.47329144795800443\n",
            "cost after epoch 474: nan\n",
            "cost after epoch 475: 0.4722834068710508\n",
            "cost after epoch 476: nan\n",
            "cost after epoch 477: 0.47165637383406483\n",
            "cost after epoch 478: 0.4707793283091224\n",
            "cost after epoch 479: 0.47208670674498904\n",
            "cost after epoch 480: 0.47180883437546944\n",
            "cost after epoch 481: 0.4707033456704042\n",
            "cost after epoch 482: 0.47057375593126566\n",
            "cost after epoch 483: nan\n",
            "cost after epoch 484: 0.47037009793432377\n",
            "cost after epoch 485: nan\n",
            "cost after epoch 486: nan\n",
            "cost after epoch 487: nan\n",
            "cost after epoch 488: 0.4700611374066974\n",
            "cost after epoch 489: nan\n",
            "cost after epoch 490: 0.4693752106091491\n",
            "cost after epoch 491: 0.4695103189318206\n",
            "cost after epoch 492: 0.4712772159410562\n",
            "cost after epoch 493: 0.46864190424196756\n",
            "cost after epoch 494: nan\n",
            "cost after epoch 495: 0.46784039487185086"
          ],
          "name": "stdout"
        },
        {
          "output_type": "stream",
          "text": [
            "\n",
            "cost after epoch 496: 0.4716404256857815\n",
            "cost after epoch 497: 0.4676383636835725\n",
            "cost after epoch 498: 0.46729730690177634\n",
            "cost after epoch 499: 0.468766846416099\n",
            "cost after epoch 500: 0.4685587034590217\n",
            "Train phase time: 50.15855622291565\n"
          ],
          "name": "stdout"
        }
      ]
    },
    {
      "metadata": {
        "id": "uRyJCdQeQKFd",
        "colab_type": "code",
        "colab": {
          "base_uri": "https://localhost:8080/",
          "height": 52
        },
        "outputId": "27b91e1d-9773-42e2-a6f7-96d45d3b01dd"
      },
      "cell_type": "code",
      "source": [
        "pred_labels = predict(train_data, parameters=model['parameters'], activation=activation_function)\n",
        "print('accuracy on train set:', (np.sum(pred_labels == train_label)/pred_labels.size) * 100, '%')\n",
        "pred_labels = predict(test_data, parameters=model['parameters'], activation=activation_function)\n",
        "print('accuracy on test set:', (np.sum(pred_labels == test_label)/pred_labels.size) * 100, '%')"
      ],
      "execution_count": 32,
      "outputs": [
        {
          "output_type": "stream",
          "text": [
            "accuracy on train set: 100.0 %\n",
            "accuracy on test set: 100.0 %\n"
          ],
          "name": "stdout"
        }
      ]
    },
    {
      "metadata": {
        "id": "bqy13PV_QKFq",
        "colab_type": "text"
      },
      "cell_type": "markdown",
      "source": [
        "### plot cost value"
      ]
    },
    {
      "metadata": {
        "id": "1SwQdN-zQKFw",
        "colab_type": "code",
        "colab": {}
      },
      "cell_type": "code",
      "source": [
        "plt.plot(range(len(model['cost_history'])), model['cost_history'])\n",
        "plt.show()"
      ],
      "execution_count": 0,
      "outputs": []
    },
    {
      "metadata": {
        "id": "i5OuzRIEQKF5",
        "colab_type": "text"
      },
      "cell_type": "markdown",
      "source": [
        "### test an example of test set"
      ]
    },
    {
      "metadata": {
        "id": "_2H7x-w_QKF8",
        "colab_type": "code",
        "colab": {
          "base_uri": "https://localhost:8080/",
          "height": 384
        },
        "outputId": "a74db823-1581-4f45-9502-9b202aa0768a"
      },
      "cell_type": "code",
      "source": [
        "photo_number = 15\n",
        "imgplot = plt.imshow(test_data[photo_number].reshape(64, 64))\n",
        "plt.show()\n",
        "pred_labels = predict(test_data[photo_number].reshape(1, -1), parameters=model['parameters'], activation=activation_function)\n",
        "print(pred_labels)\n",
        "if int(pred_labels[0][0]) == 1:\n",
        "    print('Human')\n",
        "else:\n",
        "    print('Not-Human')"
      ],
      "execution_count": 46,
      "outputs": [
        {
          "output_type": "display_data",
          "data": {
            "image/png": "[encoded data removed]",
            "text/plain": [
              "<matplotlib.figure.Figure at 0x7fb212622240>"
            ]
          },
          "metadata": {
            "tags": []
          }
        },
        {
          "output_type": "stream",
          "text": [
            "[[0.]]\n",
            "Not-Human\n"
          ],
          "name": "stdout"
        }
      ]
    },
    {
      "metadata": {
        "id": "BVy0VYQHQKGS",
        "colab_type": "text"
      },
      "cell_type": "markdown",
      "source": [
        "### predict an example from you\n",
        "It must be a 64*64 photo."
      ]
    },
    {
      "metadata": {
        "id": "DNbgpqVuQKGX",
        "colab_type": "code",
        "colab": {}
      },
      "cell_type": "code",
      "source": [
        "# myimg = mpimg.imread('myimg.jpg')\n",
        "# imgplot = plt.imshow(myimg)\n",
        "# print(myimg.shape)\n",
        "\n",
        "def predict_new_photo(photo_name):\n",
        "    # import photo and convert it to greyscale 64*64\n",
        "    x=Image.open(photo_name, 'r')\n",
        "    x=x.convert('L') #makes it greyscale\n",
        "    y=np.asarray(x.getdata(), dtype=np.float64).reshape((x.size[1],x.size[0]))\n",
        "    y=np.asarray(y, dtype=np.uint8) #if values still in range 0-255! \n",
        "    w=Image.fromarray(y,mode='L')\n",
        "    w.save('out.jpg')\n",
        "\n",
        "    # rotate imgae 90 degree\n",
        "    raw_img = Image.open(\"out.jpg\")\n",
        "    img = raw_img.rotate(90)\n",
        "    # img.show()\n",
        "    img.save(\"out.jpg\")\n",
        "\n",
        "    myimg = mpimg.imread('out.jpg')\n",
        "    imgplot = plt.imshow(myimg)\n",
        "\n",
        "    pred_labels = predict(myimg.reshape(1, -1), parameters=model['parameters'], activation=activation_function)\n",
        "    if int(pred_labels[0][0]) == 1:\n",
        "        print('Human')\n",
        "    else:\n",
        "        print('Not-Human')"
      ],
      "execution_count": 0,
      "outputs": []
    },
    {
      "metadata": {
        "id": "IbpzlDuuQKGu",
        "colab_type": "code",
        "colab": {}
      },
      "cell_type": "code",
      "source": [
        "m = 6\n",
        "plt.subplot(m,1, 1)\n",
        "predict_new_photo('drive/ColabNotebooks/myimg.jpg')\n",
        "plt.subplot(m,1, 2)\n",
        "predict_new_photo('drive/ColabNotebooks/myimg2.jpg')\n",
        "plt.subplot(m,1, 3)\n",
        "predict_new_photo('drive/ColabNotebooks/myimg3.jpg')\n",
        "plt.subplot(m,1, 4)\n",
        "predict_new_photo('drive/ColabNotebooks/myimg4.jpg')\n",
        "plt.subplot(m,1, 5)\n",
        "predict_new_photo('drive/ColabNotebooks/myimg6.jpg')\n",
        "plt.subplot(m,1, 6)\n",
        "predict_new_photo('drive/ColabNotebooks/myimg5.jpg')"
      ],
      "execution_count": 0,
      "outputs": []
    },
    {
      "metadata": {
        "id": "LGDvIoZnQKHB",
        "colab_type": "text"
      },
      "cell_type": "markdown",
      "source": [
        "### run a package with the same parameters to check it"
      ]
    },
    {
      "metadata": {
        "id": "g1fjZOZA5AqC",
        "colab_type": "code",
        "colab": {}
      },
      "cell_type": "code",
      "source": [
        "from sklearn.neural_network import MLPClassifier\n",
        "\n",
        "clf = MLPClassifier(hidden_layer_sizes=(200, 500, 200), activation='tanh', solver='sgd', alpha=0, learning_rate_init=0.1, max_iter=10000)\n",
        "clf.fit(train_data, train_label)\n",
        "\n",
        "print('accuracy on train set:', clf.score(train_data, train_label)*100)\n",
        "print('accuracy on test set:', clf.score(test_data, test_label)*100)\n",
        "print('loss:', clf.loss_)"
      ],
      "execution_count": 0,
      "outputs": []
    },
    {
      "metadata": {
        "id": "Q09xchUWQKHT",
        "colab_type": "code",
        "colab": {}
      },
      "cell_type": "code",
      "source": [
        "myimg = mpimg.imread('out.jpg')\n",
        "print(clf.predict(myimg.reshape(1, -1)))"
      ],
      "execution_count": 0,
      "outputs": []
    },
    {
      "metadata": {
        "id": "1zlTvK1bQKHo",
        "colab_type": "code",
        "colab": {}
      },
      "cell_type": "code",
      "source": [
        ""
      ],
      "execution_count": 0,
      "outputs": []
    }
  ]
}